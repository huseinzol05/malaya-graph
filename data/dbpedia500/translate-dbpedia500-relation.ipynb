{
 "cells": [
  {
   "cell_type": "code",
   "execution_count": 3,
   "metadata": {},
   "outputs": [],
   "source": [
    "# !wget https://raw.githubusercontent.com/ZhenfengLei/KGDatasets/master/DBpedia500/relation2id.txt"
   ]
  },
  {
   "cell_type": "code",
   "execution_count": 4,
   "metadata": {},
   "outputs": [],
   "source": [
    "import os\n",
    "\n",
    "os.environ['CUDA_VISIBLE_DEVICES'] = '1'"
   ]
  },
  {
   "cell_type": "code",
   "execution_count": 5,
   "metadata": {},
   "outputs": [],
   "source": [
    "import malaya\n",
    "transformer = malaya.translation.en_ms.transformer()"
   ]
  },
  {
   "cell_type": "code",
   "execution_count": 14,
   "metadata": {},
   "outputs": [
    {
     "data": {
      "text/plain": [
       "['director\\t0',\n",
       " 'producer\\t1',\n",
       " 'writer\\t2',\n",
       " 'distributor\\t3',\n",
       " 'country\\t4',\n",
       " 'language\\t5',\n",
       " 'author\\t6',\n",
       " 'illustrator\\t7',\n",
       " 'literaryGenre\\t8',\n",
       " 'publisher\\t9']"
      ]
     },
     "execution_count": 14,
     "metadata": {},
     "output_type": "execute_result"
    }
   ],
   "source": [
    "with open('relation2id.txt') as fopen:\n",
    "    data = fopen.read().split('\\n')\n",
    "data = list(filter(None, data))\n",
    "data[:10]"
   ]
  },
  {
   "cell_type": "code",
   "execution_count": 17,
   "metadata": {},
   "outputs": [],
   "source": [
    "# !pip3 install wordsegment\n",
    "\n",
    "from wordsegment import load, segment\n",
    "load()"
   ]
  },
  {
   "cell_type": "code",
   "execution_count": 21,
   "metadata": {},
   "outputs": [
    {
     "name": "stderr",
     "output_type": "stream",
     "text": [
      "100%|██████████| 654/654 [00:54<00:00, 12.10it/s]\n"
     ]
    }
   ],
   "source": [
    "from tqdm import tqdm\n",
    "\n",
    "results = []\n",
    "for r in tqdm(data):\n",
    "    text, id = r.split('\\t')\n",
    "    s = ' '.join(segment(text))\n",
    "    ms = transformer.greedy_decoder([s])[0]\n",
    "    d = {'id': id, 'text': text, 'segment': s, 'segment_ms': ms}\n",
    "    results.append(d)"
   ]
  },
  {
   "cell_type": "code",
   "execution_count": 24,
   "metadata": {},
   "outputs": [
    {
     "data": {
      "text/plain": [
       "[{'id': '0',\n",
       "  'text': 'director',\n",
       "  'segment': 'director',\n",
       "  'segment_ms': 'pengarah'},\n",
       " {'id': '1',\n",
       "  'text': 'producer',\n",
       "  'segment': 'producer',\n",
       "  'segment_ms': 'pengeluar'},\n",
       " {'id': '2', 'text': 'writer', 'segment': 'writer', 'segment_ms': 'penulis'},\n",
       " {'id': '3',\n",
       "  'text': 'distributor',\n",
       "  'segment': 'distributor',\n",
       "  'segment_ms': 'pengedar'},\n",
       " {'id': '4', 'text': 'country', 'segment': 'country', 'segment_ms': 'negara'},\n",
       " {'id': '5',\n",
       "  'text': 'language',\n",
       "  'segment': 'language',\n",
       "  'segment_ms': 'bahasa'},\n",
       " {'id': '6', 'text': 'author', 'segment': 'author', 'segment_ms': 'pengarang'},\n",
       " {'id': '7',\n",
       "  'text': 'illustrator',\n",
       "  'segment': 'illustrator',\n",
       "  'segment_ms': 'ilustrator'},\n",
       " {'id': '8',\n",
       "  'text': 'literaryGenre',\n",
       "  'segment': 'literary genre',\n",
       "  'segment_ms': 'genre sastera'},\n",
       " {'id': '9',\n",
       "  'text': 'publisher',\n",
       "  'segment': 'publisher',\n",
       "  'segment_ms': 'penerbit'}]"
      ]
     },
     "execution_count": 24,
     "metadata": {},
     "output_type": "execute_result"
    }
   ],
   "source": [
    "results[:10]"
   ]
  },
  {
   "cell_type": "code",
   "execution_count": 25,
   "metadata": {},
   "outputs": [],
   "source": [
    "import json\n",
    "\n",
    "with open('dbpedia500-relation2id.txt.json', 'w') as fopen:\n",
    "    json.dump(results, fopen)"
   ]
  }
 ],
 "metadata": {
  "kernelspec": {
   "display_name": "Python 3",
   "language": "python",
   "name": "python3"
  },
  "language_info": {
   "codemirror_mode": {
    "name": "ipython",
    "version": 3
   },
   "file_extension": ".py",
   "mimetype": "text/x-python",
   "name": "python",
   "nbconvert_exporter": "python",
   "pygments_lexer": "ipython3",
   "version": "3.6.9"
  }
 },
 "nbformat": 4,
 "nbformat_minor": 2
}
