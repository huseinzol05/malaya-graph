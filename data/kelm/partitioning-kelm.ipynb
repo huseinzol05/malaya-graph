{
 "cells": [
  {
   "cell_type": "code",
   "execution_count": 3,
   "metadata": {},
   "outputs": [],
   "source": [
    "import os\n",
    "\n",
    "os.environ['CUDA_VISIBLE_DEVICES'] = ''\n",
    "\n",
    "import ujson as json\n",
    "import pickle\n",
    "import re\n",
    "import malaya\n",
    "from tqdm import tqdm"
   ]
  },
  {
   "cell_type": "code",
   "execution_count": 4,
   "metadata": {},
   "outputs": [],
   "source": [
    "class Pointer:\n",
    "    def __init__(self, filename):\n",
    "        self.filename = filename\n",
    "        self.index = 0\n",
    "\n",
    "    def _save(self):\n",
    "        with open(self.filename, 'wb') as fopen:\n",
    "            pickle.dump(self.index, fopen)\n",
    "\n",
    "    def increment(self):\n",
    "        self.index += 1\n",
    "        self._save()\n",
    "\n",
    "    def load(self):\n",
    "        if not os.path.exists(self.filename):\n",
    "            return\n",
    "        with open(self.filename, 'rb') as fopen:\n",
    "            self.index = pickle.load(fopen)"
   ]
  },
  {
   "cell_type": "code",
   "execution_count": 5,
   "metadata": {},
   "outputs": [],
   "source": [
    "filename = 'kelm_generated_corpus.jsonl'\n",
    "pointer = Pointer(f'{filename}.pickle')\n",
    "pointer.load()\n",
    "index = 0\n",
    "limit = 400000"
   ]
  },
  {
   "cell_type": "code",
   "execution_count": 6,
   "metadata": {},
   "outputs": [],
   "source": [
    "results = []\n",
    "with open(filename) as fopen:\n",
    "    for line in fopen:\n",
    "        if index >= pointer.index:\n",
    "            l = json.loads(line)\n",
    "            results.append(l)\n",
    "\n",
    "            pointer.increment()\n",
    "        index += 1\n",
    "        if index == limit:\n",
    "            break"
   ]
  },
  {
   "cell_type": "code",
   "execution_count": 7,
   "metadata": {
    "scrolled": true
   },
   "outputs": [
    {
     "data": {
      "text/plain": [
       "400000"
      ]
     },
     "execution_count": 7,
     "metadata": {},
     "output_type": "execute_result"
    }
   ],
   "source": [
    "len(results)"
   ]
  },
  {
   "cell_type": "code",
   "execution_count": 8,
   "metadata": {},
   "outputs": [],
   "source": [
    "partition_size = 5\n",
    "limit = len(results) // partition_size\n",
    "for i in range(partition_size):\n",
    "    b = results[i * limit: limit + (i * limit)]\n",
    "    with open(f'{filename}-{i}', 'w') as fopen:\n",
    "        json.dump(b, fopen)"
   ]
  }
 ],
 "metadata": {
  "kernelspec": {
   "display_name": "Python 3",
   "language": "python",
   "name": "python3"
  },
  "language_info": {
   "codemirror_mode": {
    "name": "ipython",
    "version": 3
   },
   "file_extension": ".py",
   "mimetype": "text/x-python",
   "name": "python",
   "nbconvert_exporter": "python",
   "pygments_lexer": "ipython3",
   "version": "3.6.9"
  }
 },
 "nbformat": 4,
 "nbformat_minor": 2
}
