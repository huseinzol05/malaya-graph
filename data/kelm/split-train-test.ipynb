{
 "cells": [
  {
   "cell_type": "code",
   "execution_count": 1,
   "metadata": {},
   "outputs": [
    {
     "name": "stdout",
     "output_type": "stream",
     "text": [
      "--2021-07-23 18:24:45--  https://raw.githubusercontent.com/huseinzol05/malay-dataset/master/knowledge-graph/kelm/download.txt\n",
      "Resolving raw.githubusercontent.com (raw.githubusercontent.com)... 185.199.111.133, 185.199.108.133, 185.199.110.133, ...\n",
      "Connecting to raw.githubusercontent.com (raw.githubusercontent.com)|185.199.111.133|:443... connected.\n",
      "HTTP request sent, awaiting response... 200 OK\n",
      "Length: 3652 (3.6K) [text/plain]\n",
      "Saving to: ‘download.txt’\n",
      "\n",
      "download.txt        100%[===================>]   3.57K  --.-KB/s    in 0s      \n",
      "\n",
      "2021-07-23 18:24:46 (19.6 MB/s) - ‘download.txt’ saved [3652/3652]\n",
      "\n"
     ]
    }
   ],
   "source": [
    "!wget https://raw.githubusercontent.com/huseinzol05/malay-dataset/master/knowledge-graph/kelm/download.txt"
   ]
  },
  {
   "cell_type": "code",
   "execution_count": 2,
   "metadata": {},
   "outputs": [
    {
     "data": {
      "text/plain": [
       "33"
      ]
     },
     "execution_count": 2,
     "metadata": {},
     "output_type": "execute_result"
    }
   ],
   "source": [
    "with open('download.txt') as fopen:\n",
    "    data = list(filter(None, fopen.read().split()))\n",
    "len(data)"
   ]
  },
  {
   "cell_type": "code",
   "execution_count": 3,
   "metadata": {},
   "outputs": [],
   "source": [
    "import os\n",
    "for row in data:\n",
    "    os.system(f'wget {row}')"
   ]
  },
  {
   "cell_type": "code",
   "execution_count": 4,
   "metadata": {},
   "outputs": [],
   "source": [
    "from glob import glob\n",
    "\n",
    "kelm = glob('kelm_generated_corpus.jsonl-*.translated')"
   ]
  },
  {
   "cell_type": "code",
   "execution_count": 5,
   "metadata": {},
   "outputs": [],
   "source": [
    "import re\n",
    "import json\n",
    "from unidecode import unidecode\n",
    "\n",
    "def cleaning(string):\n",
    "    return re.sub(r'[ ]+', ' ', unidecode(string)).strip()"
   ]
  },
  {
   "cell_type": "code",
   "execution_count": 17,
   "metadata": {},
   "outputs": [
    {
     "name": "stdout",
     "output_type": "stream",
     "text": [
      "kelm_generated_corpus.jsonl-20.translated\n",
      "kelm_generated_corpus.jsonl-22.translated\n",
      "kelm_generated_corpus.jsonl-9.translated\n",
      "kelm_generated_corpus.jsonl-3.translated\n",
      "kelm_generated_corpus.jsonl-1.translated\n",
      "kelm_generated_corpus.jsonl-11.translated\n",
      "kelm_generated_corpus.jsonl-7.translated\n",
      "kelm_generated_corpus.jsonl-5.translated\n",
      "kelm_generated_corpus.jsonl-24.translated\n",
      "kelm_generated_corpus.jsonl-31.translated\n",
      "kelm_generated_corpus.jsonl-25.translated\n",
      "kelm_generated_corpus.jsonl-2.translated\n",
      "kelm_generated_corpus.jsonl-17.translated\n",
      "kelm_generated_corpus.jsonl-15.translated\n",
      "kelm_generated_corpus.jsonl-10.translated\n",
      "Expecting ',' delimiter: line 2 column 1 (char 342)\n",
      "kelm_generated_corpus.jsonl-18.translated\n",
      "kelm_generated_corpus.jsonl-6.translated\n",
      "kelm_generated_corpus.jsonl-13.translated\n",
      "kelm_generated_corpus.jsonl-12.translated\n",
      "kelm_generated_corpus.jsonl-14.translated\n",
      "kelm_generated_corpus.jsonl-23.translated\n",
      "kelm_generated_corpus.jsonl-27.translated\n",
      "kelm_generated_corpus.jsonl-0.translated\n",
      "kelm_generated_corpus.jsonl-30.translated\n",
      "kelm_generated_corpus.jsonl-28.translated\n",
      "kelm_generated_corpus.jsonl-4.translated\n",
      "kelm_generated_corpus.jsonl-29.translated\n",
      "kelm_generated_corpus.jsonl-21.translated\n",
      "kelm_generated_corpus.jsonl-26.translated\n",
      "kelm_generated_corpus.jsonl-8.translated\n",
      "kelm_generated_corpus.jsonl-19.translated\n",
      "kelm_generated_corpus.jsonl-16.translated\n",
      "kelm_generated_corpus.jsonl-32.translated\n"
     ]
    }
   ],
   "source": [
    "train_left, train_right = [], []\n",
    "\n",
    "for file in kelm:\n",
    "    print(file)\n",
    "    with open(file) as fopen:\n",
    "        for line in fopen:\n",
    "            try:\n",
    "                l = json.loads(line)\n",
    "                c_en = cleaning(l['en']['reference'])\n",
    "                c_ms = cleaning(l['candidate-ms'])\n",
    "                if 10 < len(c_en.split()) < 150 and 10 < len(c_ms.split()) < 150 and l['en']['score'] > 0.55:\n",
    "                    train_right.append(c_en)\n",
    "                    train_left.append(c_ms)\n",
    "            except Exception as e:\n",
    "                print(e)"
   ]
  },
  {
   "cell_type": "code",
   "execution_count": 18,
   "metadata": {},
   "outputs": [
    {
     "data": {
      "text/plain": [
       "(6042873, 6042873)"
      ]
     },
     "execution_count": 18,
     "metadata": {},
     "output_type": "execute_result"
    }
   ],
   "source": [
    "len(train_left), len(train_right)"
   ]
  },
  {
   "cell_type": "code",
   "execution_count": 19,
   "metadata": {},
   "outputs": [
    {
     "data": {
      "text/plain": [
       "['Kejohanan beregu campuran di Sukan Asia Tenggara 2011 adalah sebahagian daripada senarai fokus wikiProject Badminton / kejohanan.',\n",
       " 'KWBZ ialah sebuah stesen radio di Amerika Syarikat, yang ditubuhkan pada 1981 dan terletak di negeri Missouri.',\n",
       " 'Dee Dee Ramone dikebumikan di Hollywood Forever Cemetery di Los Angeles.',\n",
       " 'Ditulis oleh Fred Haines, Steppenwolf adalah filem drama dalam bahasa Inggeris. Max Von Sydow dan Pierre Clementi adalah bintang dalam filem yang mempunyai Eduard Linkers sebagai salah seorang anggota pelakonnya.',\n",
       " 'Jean-Louis Ferrary adalah ahli Academia des Inscriptions et Belles-Lettres, yang beliau sertai pada tahun 2005.',\n",
       " 'Berthold I dari Istria dilahirkan sekitar 1110 di Jerman. Dia memerintah Istria dari 1140 hingga 1188 dan digantikan oleh seorang lelaki bernama Berthold.',\n",
       " 'Kebangkitan dan Kejatuhan ECW pada asalnya ditunjukkan dalam bahasa Inggeris dan berasal dari Amerika Syarikat.',\n",
       " 'Stesen Xiaoshizi berada di Laluan 6 Transit Rel Chongqing. Stesen ini dihubungkan ke stesen Grand Theatre.',\n",
       " 'Eoghan Ruadh Mac an Bhaird ialah seorang manusia yang menulis dalam bahasa Ireland.',\n",
       " 'Sotong Humboldt (Ommastrephinae) adalah teksi yang status pemuliharaannya adalah Kekurangan Data. Ia dinamakan Alexander von Humboldt.']"
      ]
     },
     "execution_count": 19,
     "metadata": {},
     "output_type": "execute_result"
    }
   ],
   "source": [
    "train_left[:10]"
   ]
  },
  {
   "cell_type": "code",
   "execution_count": 20,
   "metadata": {},
   "outputs": [
    {
     "data": {
      "text/plain": [
       "['Badminton at the 2011 Southeast Asian Games -- Mixed doubles on focus list of Wikimedia project WikiProject Badminton/tournament focus list.',\n",
       " 'KWBZ country United States, located in the administrative territorial entity Missouri, instance of radio station, inception 01 January 1981.',\n",
       " 'Dee Dee Ramone place of burial Hollywood Forever Cemetery, Hollywood Forever Cemetery located in the administrative territorial entity Los Angeles.',\n",
       " 'Steppenwolf ( film ) screenwriter Fred Haines, cast member Eduard Linkers, genre Drama ( film and television ), cast member Max von Sydow, original language of film or TV show English language, cast member Pierre Clementi.',\n",
       " 'Jean-Louis Ferrary member of Academie des Inscriptions et Belles-Lettres, Academie des Inscriptions et Belles-Lettres start time 00 2005.',\n",
       " 'Berthold I of Istria sex or gender male, date of birth 00 1110, occupation ruler, date of death 04 December 1188, country of citizenship Germany, date of death 14 December 1188.',\n",
       " 'The Rise and Fall of ECW original language of film or TV show English language, country of origin United States.',\n",
       " 'Xiaoshizi station Grand Theater station ( Chongqing Rail Transit ) connecting line Line 6 ( Chongqing Rail Transit ).',\n",
       " 'Eoghan Ruadh Mac an Bhaird instance of Human, languages spoken, written or signed Irish language, writing language Irish language.',\n",
       " 'Humboldt squid instance of Taxon, named after Alexander von Humboldt, taxon rank Species, parent taxon Ommastrephinae, IUCN conservation status Data deficient.']"
      ]
     },
     "execution_count": 20,
     "metadata": {},
     "output_type": "execute_result"
    }
   ],
   "source": [
    "train_right[:10]"
   ]
  },
  {
   "cell_type": "code",
   "execution_count": 21,
   "metadata": {},
   "outputs": [
    {
     "name": "stderr",
     "output_type": "stream",
     "text": [
      "100%|██████████| 6042873/6042873 [00:05<00:00, 1039563.24it/s]\n"
     ]
    }
   ],
   "source": [
    "from tqdm import tqdm\n",
    "\n",
    "train_X, train_Y = [], []\n",
    "for i in tqdm(range(len(train_left))):\n",
    "    if len(train_left[i]) and len(train_right[i]):\n",
    "        train_X.append(train_left[i])\n",
    "        train_Y.append(train_right[i])"
   ]
  },
  {
   "cell_type": "code",
   "execution_count": 22,
   "metadata": {},
   "outputs": [],
   "source": [
    "from sklearn.model_selection import train_test_split"
   ]
  },
  {
   "cell_type": "code",
   "execution_count": 23,
   "metadata": {},
   "outputs": [],
   "source": [
    "train_X, test_X, train_Y, test_Y = train_test_split(train_X, train_Y, test_size = 10000)"
   ]
  },
  {
   "cell_type": "code",
   "execution_count": 24,
   "metadata": {},
   "outputs": [
    {
     "data": {
      "text/plain": [
       "('Hari Eropah (atau Hari Eropah) adalah cuti umum, simbol Kesatuan Eropah, dan merupakan Hari Sedunia. Ia adalah 9 Mei, percutian yang memperingati Deklarasi Schuman.',\n",
       " 'Dekad Selatan diperbuat daripada perak, teal, emas, putih dan merah. teal ini digunakan pada tahun 1997 dan 2007.')"
      ]
     },
     "execution_count": 24,
     "metadata": {},
     "output_type": "execute_result"
    }
   ],
   "source": [
    "train_X[0], test_X[0]"
   ]
  },
  {
   "cell_type": "code",
   "execution_count": 25,
   "metadata": {},
   "outputs": [
    {
     "data": {
      "text/plain": [
       "('Europe Day instance of world day, different from European day, instance of Symbols of the European Union, day in year for periodic occurrence May 9, instance of Holiday, commemorates Schuman Declaration.',\n",
       " 'Southern Decadence Silver ( color ) together with Teal, Teal together with White, Teal together with Silver ( color ), Teal together with Gold ( color ), Teal together with Crimson, Teal point in time 00 1997, Teal point in time 00 2007.')"
      ]
     },
     "execution_count": 25,
     "metadata": {},
     "output_type": "execute_result"
    }
   ],
   "source": [
    "train_Y[0], test_Y[0]"
   ]
  },
  {
   "cell_type": "code",
   "execution_count": 26,
   "metadata": {},
   "outputs": [],
   "source": [
    "with open('train_X', 'w') as fopen:\n",
    "    fopen.write('\\n'.join(train_X))\n",
    "    \n",
    "with open('train_Y', 'w') as fopen:\n",
    "    fopen.write('\\n'.join(train_Y))"
   ]
  },
  {
   "cell_type": "code",
   "execution_count": 27,
   "metadata": {},
   "outputs": [],
   "source": [
    "with open('test_X', 'w') as fopen:\n",
    "    fopen.write('\\n'.join(test_X))\n",
    "    \n",
    "with open('test_Y', 'w') as fopen:\n",
    "    fopen.write('\\n'.join(test_Y))"
   ]
  }
 ],
 "metadata": {
  "kernelspec": {
   "display_name": "Python 3",
   "language": "python",
   "name": "python3"
  },
  "language_info": {
   "codemirror_mode": {
    "name": "ipython",
    "version": 3
   },
   "file_extension": ".py",
   "mimetype": "text/x-python",
   "name": "python",
   "nbconvert_exporter": "python",
   "pygments_lexer": "ipython3",
   "version": "3.6.9"
  }
 },
 "nbformat": 4,
 "nbformat_minor": 2
}
