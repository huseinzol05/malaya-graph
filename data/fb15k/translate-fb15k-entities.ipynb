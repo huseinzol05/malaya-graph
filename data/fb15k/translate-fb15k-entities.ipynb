{
 "cells": [
  {
   "cell_type": "code",
   "execution_count": 1,
   "metadata": {},
   "outputs": [],
   "source": [
    "import os\n",
    "os.environ['CUDA_VISIBLE_DEVICES'] = '0'"
   ]
  },
  {
   "cell_type": "code",
   "execution_count": 2,
   "metadata": {},
   "outputs": [],
   "source": [
    "import malaya\n",
    "transformer = malaya.translation.en_ms.transformer()"
   ]
  },
  {
   "cell_type": "code",
   "execution_count": 5,
   "metadata": {},
   "outputs": [
    {
     "data": {
      "text/plain": [
       "\"/m/0hvbj\\t'N Sync\""
      ]
     },
     "execution_count": 5,
     "metadata": {},
     "output_type": "execute_result"
    }
   ],
   "source": [
    "import json\n",
    "\n",
    "with open('fb15k-entities.txt') as fopen:\n",
    "    data = fopen.read().split('\\n')\n",
    "data = list(filter(None, data))\n",
    "data[0]"
   ]
  },
  {
   "cell_type": "code",
   "execution_count": 5,
   "metadata": {},
   "outputs": [
    {
     "data": {
      "text/plain": [
       "'Q202042'"
      ]
     },
     "execution_count": 5,
     "metadata": {},
     "output_type": "execute_result"
    }
   ],
   "source": [
    "list(data.keys())[0]"
   ]
  },
  {
   "cell_type": "code",
   "execution_count": 10,
   "metadata": {},
   "outputs": [
    {
     "name": "stderr",
     "output_type": "stream",
     "text": [
      "100%|██████████| 14942/14942 [31:13<00:00,  7.97it/s] \n"
     ]
    }
   ],
   "source": [
    "from tqdm import tqdm\n",
    "\n",
    "results = []\n",
    "for k in tqdm(data):\n",
    "    id, text = k.split('\\t')\n",
    "    r = transformer.greedy_decoder([text])[0]\n",
    "    results.append({'id': id, 'text': text, 'text_ms': r, 'original': k})"
   ]
  },
  {
   "cell_type": "code",
   "execution_count": 11,
   "metadata": {},
   "outputs": [
    {
     "data": {
      "text/plain": [
       "[{'id': '/m/0hvbj',\n",
       "  'text': \"'N Sync\",\n",
       "  'text_ms': \"'N Segerak\",\n",
       "  'original': \"/m/0hvbj\\t'N Sync\"},\n",
       " {'id': '/m/047msdk',\n",
       "  'text': '(500) Days of Summer',\n",
       "  'text_ms': '(500) Hari Musim Panas',\n",
       "  'original': '/m/047msdk\\t(500) Days of Summer'},\n",
       " {'id': '/m/01nd2c',\n",
       "  'text': '1. FC Kaiserslautern',\n",
       "  'text_ms': '1. FC Kaiserslautern',\n",
       "  'original': '/m/01nd2c\\t1. FC Kaiserslautern'}]"
      ]
     },
     "execution_count": 11,
     "metadata": {},
     "output_type": "execute_result"
    }
   ],
   "source": [
    "results[:3]"
   ]
  },
  {
   "cell_type": "code",
   "execution_count": 12,
   "metadata": {},
   "outputs": [],
   "source": [
    "with open('fb15k-entities.txt.translate', 'w') as fopen:\n",
    "    json.dump(data, fopen)"
   ]
  }
 ],
 "metadata": {
  "kernelspec": {
   "display_name": "Python 3",
   "language": "python",
   "name": "python3"
  },
  "language_info": {
   "codemirror_mode": {
    "name": "ipython",
    "version": 3
   },
   "file_extension": ".py",
   "mimetype": "text/x-python",
   "name": "python",
   "nbconvert_exporter": "python",
   "pygments_lexer": "ipython3",
   "version": "3.6.9"
  }
 },
 "nbformat": 4,
 "nbformat_minor": 2
}
