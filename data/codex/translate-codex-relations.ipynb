{
 "cells": [
  {
   "cell_type": "code",
   "execution_count": 1,
   "metadata": {},
   "outputs": [],
   "source": [
    "import os\n",
    "os.environ['CUDA_VISIBLE_DEVICES'] = '1'"
   ]
  },
  {
   "cell_type": "code",
   "execution_count": 2,
   "metadata": {},
   "outputs": [],
   "source": [
    "import malaya\n",
    "transformer = malaya.translation.en_ms.transformer()"
   ]
  },
  {
   "cell_type": "code",
   "execution_count": 3,
   "metadata": {},
   "outputs": [],
   "source": [
    "# !wget https://raw.githubusercontent.com/tsafavi/codex/master/data/relations/en/relations.json"
   ]
  },
  {
   "cell_type": "code",
   "execution_count": 4,
   "metadata": {},
   "outputs": [],
   "source": [
    "import json\n",
    "with open('relations.json') as fopen:\n",
    "    data = json.load(fopen)"
   ]
  },
  {
   "cell_type": "code",
   "execution_count": 5,
   "metadata": {},
   "outputs": [
    {
     "data": {
      "text/plain": [
       "dict_keys(['P749', 'P2578', 'P509', 'P149', 'P451', 'P452', 'P123', 'P194', 'P19', 'P20', 'P138', 'P161', 'P2176', 'P641', 'P54', 'P1050', 'P159', 'P131', 'P780', 'P36', 'P140', 'P2283', 'P488', 'P47', 'P4552', 'P106', 'P3373', 'P551', 'P26', 'P1412', 'P466', 'P800', 'P2348', 'P1454', 'P495', 'P407', 'P102', 'P69', 'P840', 'P264', 'P172', 'P84', 'P169', 'P35', 'P17', 'P170', 'P57', 'P40', 'P135', 'P50', 'P1303', 'P463', 'P30', 'P3095', 'P113', 'P27', 'P361', 'P1056', 'P740', 'P119', 'P1995', 'P530', 'P457', 'P112', 'P37', 'P366', 'P114', 'P108', 'P737', 'P101', 'P136'])"
      ]
     },
     "execution_count": 5,
     "metadata": {},
     "output_type": "execute_result"
    }
   ],
   "source": [
    "data.keys()"
   ]
  },
  {
   "cell_type": "code",
   "execution_count": 6,
   "metadata": {},
   "outputs": [
    {
     "name": "stderr",
     "output_type": "stream",
     "text": [
      "100%|██████████| 71/71 [00:35<00:00,  1.98it/s]\n"
     ]
    }
   ],
   "source": [
    "from tqdm import tqdm\n",
    "\n",
    "for k in tqdm(data.keys()):\n",
    "    r = transformer.greedy_decoder([data[k]['label'], data[k]['description']])\n",
    "    data[k]['label_ms'] = r[0]\n",
    "    data[k]['description_ms'] = r[1]"
   ]
  },
  {
   "cell_type": "code",
   "execution_count": 7,
   "metadata": {},
   "outputs": [
    {
     "data": {
      "text/plain": [
       "{'label': 'parent organization',\n",
       " 'description': 'parent organization of an organization, opposite of subsidiaries (P355)',\n",
       " 'label_ms': 'organisasi induk',\n",
       " 'description_ms': 'organisasi induk organisasi, bertentangan dengan anak syarikat (P355)'}"
      ]
     },
     "execution_count": 7,
     "metadata": {},
     "output_type": "execute_result"
    }
   ],
   "source": [
    "data['P749']"
   ]
  },
  {
   "cell_type": "code",
   "execution_count": 8,
   "metadata": {},
   "outputs": [
    {
     "data": {
      "text/plain": [
       "{'label': 'studies',\n",
       " 'description': 'subject item is the academic field studying the object item of this property',\n",
       " 'label_ms': 'kajian',\n",
       " 'description_ms': 'item subjek adalah bidang akademik yang mengkaji item objek sifat ini'}"
      ]
     },
     "execution_count": 8,
     "metadata": {},
     "output_type": "execute_result"
    }
   ],
   "source": [
    "data['P2578']"
   ]
  },
  {
   "cell_type": "code",
   "execution_count": 9,
   "metadata": {},
   "outputs": [],
   "source": [
    "with open('codex-relations.json.translate', 'w') as fopen:\n",
    "    json.dump(data, fopen)"
   ]
  }
 ],
 "metadata": {
  "kernelspec": {
   "display_name": "Python 3",
   "language": "python",
   "name": "python3"
  },
  "language_info": {
   "codemirror_mode": {
    "name": "ipython",
    "version": 3
   },
   "file_extension": ".py",
   "mimetype": "text/x-python",
   "name": "python",
   "nbconvert_exporter": "python",
   "pygments_lexer": "ipython3",
   "version": "3.6.9"
  }
 },
 "nbformat": 4,
 "nbformat_minor": 2
}
