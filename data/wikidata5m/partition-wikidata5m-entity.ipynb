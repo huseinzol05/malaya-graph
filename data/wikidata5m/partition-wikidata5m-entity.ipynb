{
 "cells": [
  {
   "cell_type": "code",
   "execution_count": 15,
   "metadata": {},
   "outputs": [],
   "source": [
    "# !wget https://www.dropbox.com/s/lnbhc8yuhit4wm5/wikidata5m_alias.tar.gz?dl=1\n",
    "# !mv wikidata5m_alias.tar.gz?dl=1 wikidata5m_alias.tar.gz\n",
    "# !tar -zxf wikidata5m_alias.tar.gz\n",
    "# !rm wikidata5m_alias.tar.gz"
   ]
  },
  {
   "cell_type": "code",
   "execution_count": 2,
   "metadata": {},
   "outputs": [
    {
     "name": "stdout",
     "output_type": "stream",
     "text": [
      "Q5196650\tCut Your Hair\tcut your hair\r\n",
      "Q912600\tStraumur-Burðarás\tStraumur\tstraumur–burðarás investment bank\tstraumur\tStraumur-Burðarás Investment Bank\tstraumur-burðarás investment bank\tstraumur investment bank\tstraumur-burðarás fjárf.banki\tStraumur-Burðarás Fjárf.banki\tstraumur-burðarás\tStraumur Investment Bank\tStraumur–Burðarás Investment Bank\r\n",
      "Q47551\tditiano\ttipciano\ttitiaen geovene\tTizzianello\tCalled, Titian Tiziano Vecelli Cavaliere\tcalled titian veccellio\tgenannt Vecelli Titian\tVeccelli Titian genoemd Titiaan\ttitiano da cadore\tttiziano\tdit Le Titien Titianus Vecellio\tTiziano Vecelli\tTitiano Vecelli\ttissien\tTiziano Vecelli da Cador\ttitiano vecelli\ttizian vecellio\tTiçiano\ttitiaen\ttitian (tiziano veccellio)\ttetian\tticciano\ttiziano veccelli\tziano\tTitien Vecelly\tTicciani\ttitiano vccello\tTitien Vecelli da Cador\tTuziano\tvicelli\ttipziano\ttizzani\tTisiaen\tTiziano Vecellio\ttiziano veccellio\tTisiano\ttishian\tTizano\tvecelli\tTitian (Tiziano Veccellio)\tde Cador Titien Vecelli\tTitien de Vecelli\tttalion\ttiziano vecelli\ttisciano\tcalled Titian Veccellio\tvecellio titian\tdit le titien vecelli\ttietsiaen\tTiziani\ttitianello\tTitianus\tTittien-Vecelli\tTitien\tcalled Titian Tiziano Vecelli\tTitianus Vecelly\ttiçiano\ttiziano vecelli da cadore\tTitiano Veccelly\ttitiano d'uxellio dacadore\tTicianello\tDitiano\tcalled titian tiziano vecelli\ttician\tTiziano veccelli\ttitiaan giovene\ttitianesque\ttiziano vecelli da cador\tTiziano Vecellio di Cadore\tTitien Vecelli\ttitien vecelli\tticiano vecelio\ttiziani\tde Cador Titien de Vecelli\ttitians\tgenannt vecelli titian\tTitiaan\ttitian vecelli\tou le Titien Titianus Vecellio\tTitien Vecelli De Cador\tvecelli da cadore\tdit le Titien Titiano Vecelli da Cadore\tVecelli\tTizziano\tDa Cadore\tvecelli da cadore titian\ttisiaen\tVecelli da Cadore\tThitsiaen\tVecelli da Cadore, Ven. Titian\ttitien vecelli da cador\ttitain\tTitiano Vicelli\ttitiano vercelli\tVecelli da Cadore Titian\tTitian Vecelli\tTitiaen\ttizian v.\ttiziano vecellio di cadore\ttitianus\tteriano vecellio\tTiziano Vecellio da Cadore stato Veneto\tTitianesque\ttit︠s︡iano vechellio\tTiciano\ttizzianello\tTitiaen Uccello\tdit le titien titiano vecelli da cadore\tTitiani\tticciani\tVecellio Titian\ttitiaen uccello\ttittien-vecelli\tDetiano\ttiziano vecellio\ttycjan\tdetiano\ttiziano vecellio genannt tiziano\tTizzani\ttitien\ttitiano veccelly\tTit︠s︡iano Vechellio\tticijan\ttishan\tdit Le Titien Vecelli\tTiziano Vecellio Genannt Tiziano\ttizano\tTitian Vecelli da Cadore\tVecelio Ticiano\ttuziano\tTizian\tTicijan\ttissian\tTitiano\tTishian\ttitiano\ttizian vecelli\tda cadore\ttizian\tTitianello\tTizziani\tcalled, titian tiziano vecelli cavaliere\ttiziano vecellio da cadore stato veneto\tTiziano Vicelli\tvecelio ticiano\tLe Titien\tTitiano da Cadore\tou le titien titianus vecellio\tTitain\tticiano\ttiziano vicelli\tde cador titien de vecelli\ttitian vecelli da cadore\tTitiano d'Uxellio Dacadore\tTitiano Vccello\ttiziano vecelli cavaliere\ttetiano\tTetiano\ttitiano vicelli\tTicciano\ttitsiaen\tTitien Wecelli\tde cador titien vecelli\ttiziano veccelio\tVicelli\tTitiano Vecellio\ttitien de vecelli\tdit le titien titianus vecellio\tTitien de Vecelli de Cador\tTtalion\tTisien\ttizziani\ttiziano\tTitiaan Giovene\tTishan\ttitiano vecellio\ttitien vecelli de cador\tZiano\tTissian\ttititian\tTician\tTiciano Vecelio\tTiziano Vecelli Cavaliere\ttiziano vezelli\tTitiaen Geovene\tveccelli titian genoemd titiaan\tthitsian\tthitsiaen\tle titien\tTiziano veccelio\ttitiaan\tTizian il più giovane\ttit︠s︡ian\tttiçiano\tTiziano Veccellio\ttisiano\ttitien de vecelli de cador\tTisciano\ttizian il più giovane\ttizziano\tThitsian\tTetian\tTitiano Vercelli\tTiziano Vecelli da Cadore\tTitsiaen\ttitiani\ttitien wecelli\ttitianus vecelly\tTitian\tticianello\ttitian\tTissien\tTietsiaen\tTititian\tTycjan\tvecelli da cadore, ven. titian\tTiziano\ttitien vecelly\tTit︠s︡ian\ttisien\ttticiano\r\n",
      "Q5460288\tFlora Zeta\tflora cheong-leen\tflora zeta\tFlora Cheong-Leen\r\n",
      "Q1138408\tURSS\tSochi International (airport)\tsochi airport\tadler–sochi international airport\tAdler Airport\tsochi-adler airport\tAdler-Sochi Airport\tAdler–Sochi International Airport\tAdler-Sochi International Airport\tsochi (airport)\tsochi international\tSochi International\turss\tSochi International Airport\tadler/sochi airport\tSochi (international airport)\tsochi international (airport)\tSochi airport\tAdler airport\tSochi-Adler Airport\tadler-sochi international airport\tadler-sochi airport\tadler airport\tsochi international airport\tAdler/Sochi Airport\tSochi (airport)\tSochi Airport\tsochi (international airport)\tAER\r\n",
      "Q18151267\tJustice League: Battle for Metropolis\tjustice league: battle for metropolis\r\n",
      "Q17981446\tportal:current events/2013 december 12\tdecember 12, 2013\tDecember 12, 2013\tPortal:Current events/2013 December 12\r\n",
      "Q7562391\tSonstorps IK\tsonstorps ik\r\n",
      "Q805099\teuler-bernoulli law\tEuler-Bernoulli law\tEuler—Bernoulli beam equation\tBernoulli euler beam theory\teuler–bernoulli beam equation\tEuler-Bernoulli beam theory\tEuler–Bernoulli beam equation\tBeam Theory\teuler-bernoulli beam theory\teuler—bernoulli beam equation\tEuler-Bernouilli law\tEuler-Bernoulli Beam Equation\tEuler–Bernoulli beam theory\tbernoulli euler beam theory\teuler-bernouilli law\tEuler-Bernoulli theory\teuler bernoulli beam equation\tbeam equation\tEuler-Bernoulli beam equation\teuler-bernoulli theory\teuler–bernoulli beam theory\tBeam theory\tBeam equation\tEuler Bernoulli beam equation\tBernouilli-Euler law\tbeam theory\tbernouilli-euler law\teuler-bernoulli beam equation\r\n",
      "Q4621073\t2011 Afrobasket qualification\tAfroBasket 2011 qualification\tfiba africa championship 2011 qualification\tFIBA Africa Championship 2011 qualification\t2011 FIBA Africa Championship qualification\t2011 fiba africa championship qualification\t2011 afrobasket qualification\tafrobasket 2011 qualification\r\n",
      "Q1787023\tKrebssee (Mölln)\tKrebssee\tLake of Krebs\tKrebs-see\tKrebs Lake\tkrebs lake\tkrebssee (mölln)\tkrebssee\tkrebs-see\tKrebs-See\tlake of krebs\r\n",
      "Q6180728\tJeremiah Birnbaum\tJeremiah birnbaum\tmya byrne\tjeremiah birnbaum\tMya Byrne\r\n",
      "Q471108\ttadashi ōtsuka\tTadashi Ōtsuka\tTadashi Ohtsuka\ttadashi ohtsuka\tTadashi Otsuka\ttadashi otsuka\r\n",
      "Q54319\tStar Wars (1987 video game)\tStar Wars (Namco video game)\tスターウォーズ\tstar wars (1987 video game)\tstar wars (namco video game)\r\n",
      "Q772555\tdatça peninsula\tresadiye peninsula\tReşadiye peninsula\tDatça Peninsula\tTriopian Promontory\tTriopium\tcnidian peninsula\tCnidian Peninsula\tdatca peninsula\ttriopium\tResadiye peninsula\tDatca Peninsula\tDatca peninsula\tTriopian promontory\tDatça peninsula\treşadiye peninsula\tReşadiye Peninsula\ttriopian promontory\r\n",
      "Q639978\tjigansky ulus\tJigansky Raion\tzhiganskii district\tZhiganski District\tUlus Ejigeen\tJiganskii Ulus\tZhiganski Ulus\tzhiganskaya\tZhiganskii District\tzhigansky municipal district\tzhiganskiy district\tZhiganskiy District\tZhiganski\tzhigansky ulus\tulus ejigeen\tjiganski district\tzhiganskii\tzhiganskii ulus\tUlus of Ejigeen\tZhigansky District\tZhigansky Ulus\tZhiganskii\tzhiganski ulus\tzhiganski district\tjiganskiy\tZhiganskiy Raion\tzhiganski raion\tjiganski ulus\tZhiganskii Raion\tjiganskii raion\tZhiganskiy\tJiganskiy\tzhiganskiy\tJigansky\tjigansky\tZhigansky Municipal District\tZhiganskaya\tjiganskii\tJiganskii Raion\tJiganskii\tjigansky raion\tjiganski raion\tjiganski\tzhigansky district\tzhiganskii raion\tjiganskiy ulus\tJiganskii District\tJiganski\tZhiganskiy Ulus\tZhiganskoye\tJiganski Ulus\tJiganski Raion\tjiganskii ulus\tzhigansky\tZhigansky\tJigansky District\tulus of ejigeen\tJigansky Ulus\tzhiganskoye\tJiganskiy Raion\tzhigansky raion\tJiganskiy District\tZhigansky Raion\tZhiganski Raion\tzhiganskiy raion\tjigansky district\tzhiganskiy ulus\tJiganskiy Ulus\tjiganskiy raion\tZhiganskii Ulus\tJiganski District\tzhiganski\tjiganskii district\tjiganskiy district\r\n",
      "Q5764645\tLithuanian Women's Basketball League\tLithuania Women Basketball League\tlithuania women basketball league\tlmkl\tlithuanian women's basketball league\tLietuvos Moteru Krepsinio Lyga\tLietuvos moterų krepšinio lyga\tlietuvos moteru krepsinio lyga\tLMKL\tLietuvos Moterų Krepšinio Lyga\tlietuvos moterų krepšinio lyga\r\n",
      "Q837573\t宰予\tZai Yu\ttsai yü\tzai wo\tZai Wo\tTzu-wo\ttzu-wo\ttsai wo\tTsai Yü\tziwo\tzai yu\tTsai Wo\tZiwo\r\n",
      "Q6291502\tjose antonio romeu\tjosé antonio roméu\tJosé Antonio Romeu\tjosé antonio romeu\tJosé Antonio Roméu\tJose Antonio Romeu\r\n",
      "Q20899554\tÅ vende tilbake\ta vende tilbake\tReturning Home\tå vende tilbake\tA vende tilbake\treturning home\r\n",
      "Q4019621\tWho Then Now\twho then now\tWho Then Now?\twho then now?\r\n",
      "Q947890\tRenan Barao\trenan barão\tRenan Pegado\trenan pegado\trenan barao\tRenan Barão\r\n",
      "Q25460298\tThe Thomas Gribalski Affair (Even Stevens)\tInfluenza: The Musical (Even Stevens)\tUncle Chuck (Even Stevens)\tWhere in the World Is Pookie Stevens? (Even Stevens)\tEasy Way (Even Stevens)\tWhat'll Idol Do? (Even Stevens)\tLove and Basketball (Even Stevens)\tbattle of the bands (even stevens)\tLouis in the Middle (Even Stevens)\theck of a hanukkah (even stevens)\tQuest for Coolness (Even Stevens)\thead games (even stevens)\tThe Big Splash (Even Stevens)\tren-gate (even stevens)\tthin ice (even stevens)\tLuscious Lou (Even Stevens)\tlove and basketball (even stevens)\tmy best friend's girlfriend (even stevens)\tyour toast (even stevens)\tMy Best Friend's Girlfriend (Even Stevens)\tthe kiss (even stevens)\tstevens manor (even stevens)\tsibling rivalry (even stevens)\tdevil mountain (even stevens)\tBattle of the Bands (Even Stevens)\tTight End in Traction (Even Stevens)\tshort story (even stevens)\tband on the roof (even stevens)\tScrub Day (Even Stevens)\tscrub day (even stevens)\tStevens Manor (Even Stevens)\tAll About Yvette (Even Stevens)\tRen-Gate (Even Stevens)\tsnow job (even stevens)\tSnow Job (Even Stevens)\tluscious lou (even stevens)\tuncle chuck (even stevens)\tAlmost Perfect (Even Stevens)\tthe thomas gribalski affair (even stevens)\tSibling Rivalry (Even Stevens)\tinfluenza: the musical (even stevens)\tgutter queen (even stevens)\tswap.com (even stevens episode)\tall about yvette (even stevens)\tswap.com (even stevens)\tstevens genes (even stevens)\tStevens Genes (Even Stevens)\tthe big splash (even stevens)\tFoodzilla (Even Stevens)\tthe thomas gribalski affair\ttake my sister... please (even stevens)\tDuck Soup (Even Stevens)\tfoodzilla (even stevens)\tThe Thomas Gribalski Affair\tlouis in the middle (even stevens)\tMovie Madness (Even Stevens)\tquest for coolness (even stevens)\tTake My Sister... Please (Even Stevens)\tHead Games (Even Stevens)\tget a job (even stevens)\twhere in the world is pookie stevens? (even stevens)\tShort Story (Even Stevens)\teasy way (even stevens)\tBand on the Roof (Even Stevens)\tsecrets and spies (even stevens)\tDevil Mountain (Even Stevens)\tSwap.com (Even Stevens)\tGet a Job (Even Stevens)\tHeck of a Hanukkah (Even Stevens)\tSecrets and Spies (Even Stevens)\ttight end in traction (even stevens)\tYour Toast (Even Stevens)\tThe Kiss (Even Stevens)\tThin Ice (Even Stevens)\tStrictly Ballroom (Even Stevens)\tmovie madness (even stevens)\tSwap.com (Even Stevens episode)\tduck soup (even stevens)\tstrictly ballroom (even stevens)\talmost perfect (even stevens)\tGutter Queen (Even Stevens)\twhat'll idol do? (even stevens)\r\n",
      "Q160698\triver ourthe\tWestern Ourthe\tourthe river\tEastern Ourthe\tOurthe Orientale\taiwe d' oûte\tourthe orientale\teastern ourthe\tRiver Ourthe\tOurthe\tourthe\tAiwe d' Oûte\twestern ourthe\tOurthe River\tourthe (river)\tOurthe (river)\r\n",
      "Q7777598\tShortfin Cut-throat-eel\tsynaphobranchus pinnatus var. brevidorsalis\tShortdorsal Cut Throat-Eel\tShortfin Cutthroat-Eel\tshortdorsal cutthroat eel\tShortdorsal Cutthroat eel\tShortdorsal Cutthroat Eel\tShortfin Cut-throat eel\tShortdorsal cut Throat eel\tShortdorsal Cut throat-Eel\tShortfin cut-Throat Eel\tshortfin cut-throat eel\tShortdorsal cut-Throat eel\tShortdorsal cut throat-eel\tshortdorsal cut throat-eel\tShortdorsal Cut-throat-Eel\tShortdorsal Cut throat Eel\tshortfin cut throat eel\tShortfin cut throat-eel\tshortfin cut throat-eel\tShortfin Cutthroat eel\tShortfin Cut Throat-eel\tShortdorsal cut Throat-Eel\tShortdorsal Cut-Throat Eel\tshortdorsal cutthroat-eel\tshortfin cutthroat-eel\tShortfin cut-Throat-eel\tshortfin cutthroat eel\tShortdorsal cut Throat Eel\tShortfin Cut-throat-Eel\tShortdorsal Cut Throat Eel\tSynaphobranchus pinnatus var. brevidorsalis\tshortdorsal cut-throat eel\tShortdorsal cut-throat-eel\tShortdorsal cutthroat-Eel\tShortfin cut-Throat eel\tShortdorsal Cut-Throat eel\tShortdorsal cut-throat eel\tShortdorsal Cut Throat-eel\tShortfin cut throat-Eel\tShortfin Cut throat eel\tShortdorsal cut-Throat-Eel\tShortfin cutthroat-Eel\tShortfin Cut-Throat Eel\tShortdorsal cutthroat eel\tShortfin cut-Throat-Eel\tShortfin Cut-throat Eel\tShortfin cut-throat-eel\tShortdorsal cut throat-Eel\tShortfin cut Throat-eel\tShortdorsal cutthroat Eel\tShortfin Cutthroat Eel\tShortfin Cut Throat eel\tShortfin Cut-Throat-eel\tShortdorsal cut-throat-Eel\tShortfin Cut throat-Eel\tShortdorsal cut-throat Eel\tShortfin cutthroat eel\tShortdorsal cut-Throat-eel\tShortfin cut Throat Eel\tShortfin cut Throat eel\tShortdorsal Cutthroat-Eel\tShortfin cut Throat-Eel\tShortdorsal cut-Throat Eel\tshortdorsal cut throat eel\tShortdorsal Cut Throat eel\tShortfin cut throat Eel\tShortdorsal Cut-throat-eel\tShortdorsal Cut throat eel\tShortfin Cut-Throat-Eel\tShortfin cut throat eel\tShortfin Cut-Throat eel\tshortdorsal cut-throat-eel\tSynaphobranchus brevidorsalis\tShortdorsal cut throat eel\tShortfin cutthroat Eel\tShortdorsal Cut throat-eel\tShortdorsal Cutthroat-eel\tShortfin Cutthroat-eel\tShortfin cut-throat Eel\tShortfin Cut throat Eel\tShortdorsal cut Throat-eel\tShortdorsal cut throat Eel\tShortdorsal Cut-throat Eel\tshortfin cut-throat-eel\tShortfin Cut Throat Eel\tShortfin cut-throat eel\tShortdorsal cutthroat-eel\tShortfin cutthroat-eel\tShortdorsal Cut-Throat-eel\tShortdorsal Cut-Throat-Eel\tShortdorsal Cut-throat eel\tShortfin cut-throat-Eel\tShortfin Cut Throat-Eel\tShortfin Cut throat-eel\tsynaphobranchus brevidorsalis\r\n",
      "Q24391822\tJune 2016 Istanbul bombing\tjune 2016 istanbul bombing\r\n",
      "Q720504\tGeitoneura acantha\ttisiphone acanthe\tpapilio acantha\tgeitoneura acantha\teastern ringed xenica\tEastern ringed xenica\tringed xenica\tTisiphone acanthe\tlasiommata ocrea\tEastern Ringed Xenica\tPapilio acantha\tRinged xenica\tLasiommata ocrea\tRinged Xenica\r\n",
      "Q1363733\treg hardware\telreg\tEl Reg\treg research\tcash 'n' carrion\tThe Register USA\ttheregister.com\tElreg\tTheRegister\tsituation publishing\tSituation Publishing\totto z stern\tchannel register\tReg Research\tTheregister.com\ttheregister\tcash'n'carrion\tCash 'n' Carrion\tThe Register\tOtto Z Stern\tel reg\tThe register\ttheregister.co.uk\tthe register usa\tTheregus.com\tCash'n'Carrion\tthe register\tTheregister.co.uk\tChannel Register\tTheRegister.com\ttheregus.com\tReg Hardware\r\n",
      "Q3595742\tAgerwal\tagarwala\tagrawal\tAgarwal\tBansal clan\tagarwals\tGotras of Agarwal\tAgarwals\tagerwal\tAgarwala\tAgrawal\tgotras of agarwal\tagarwal\tGotras of Agrawal\tbansal clan\tgotras of agrawal\r\n",
      "Q19801909\tWSL 2015 Samsung Galaxy Championship Tour\twsl 2015 samsung galaxy championship tour\t2015 World Surf League\t2015 asp world tour\t2015 ASP World Tour\t2015 world surf league\r\n",
      "Q739564\tIzbište\tizbiste\tIzbiste\tizbište\r\n",
      "Q524519\tYvan Müller\tYvan Muller\tyvan müller\tyvan muller\r\n",
      "Q292350\tDemessieux\tJeanne Demessieux\tjeanne demessieux\tdemessieux\r\n",
      "Q6116949\tjackson avenue – gretna ferry\tjackson avenue–gretna ferry\tjackson avenue ferry (mississippi river)\tJackson Avenue/Gretna Ferry\tJackson Avenue – Gretna Ferry\tJackson Avenue - Gretna Ferry\tGretna Jackson Avenue Ferry\tGretna Ferry\tgretna jackson avenue ferry\tgretna ferry\tJackson Avenue–Gretna ferry\tJackson Street Ferry (Mississippi River)\tJackson Avenue–Gretna Ferry\tJackson Avenue-Gretna ferry\tJackson Avenue-Gretna Ferry\tJackson Avenue Ferry (Mississippi River)\tGretna/Jackson Avenue Ferry\tjackson avenue-gretna ferry\tJackson Avenue Ferry\tjackson avenue gretna ferry\tjackson avenue/gretna ferry\tJackson Avenue Gretna Ferry\tjackson avenue ferry\tgretna/jackson avenue ferry\tjackson avenue - gretna ferry\tGretna-Jackson Avenue Ferry\tgretna-jackson avenue ferry\tjackson street ferry (mississippi river)\r\n",
      "Q2752724\tkarine kazinian\tKazinian\tKarine Kazinian\tkazinian\r\n",
      "Q58029\tPeters (biologist)\tPeters (taxonomy)\tw. peters\tWilhelm Karl Hartwig Peters\twilhelm carl hartwig peters\twilhelm karl hartwich peters\tPeters\tWilhelm Peters\tWilhelm Carl Hartwig Peters\tpeters (taxonomy)\twilhelm peters\tWilhelm Karl Hartwich Peters\tpeters\tW. Peters\twilhelm karl hartwig peters\tpeters (biologist)\r\n",
      "Q6517739\tlegend holdings corporation\tLegend Holdings Limited\tlegend holdings\tLegend Holdings\tLegend Holdings Corporation\tlegend holdings limited\r\n",
      "Q818606\tMetochia\tDukagjini Plateau\tmetohija basin\tdukadjin\tDukadin\tметохија\tRrafshi i Dukagjinit\tMetohijska kotlina\tMehotija\tDukagjin, Kosovo\tmetóhia\tmehotija\trrafshi i dukagjinit\tmetohia basin\tdukagjini plain\tPlane of Dukagjin\tmetohia\tmetochia\tDukagjin Plateau\tMetókhia\tdukagjini plateau\tmetohija\tDukagjini Plain\tMetohija basin\tDukađin\tdukađin\tdukagjin plateau\tMetohia basin\tDukadjin\tMetohija Basin\tplane of dukagjin\tMetohia\tmetókhia\tMetohija\tМетохија\tmetohijska kotlina\tdukagjin, kosovo\tMetóhia\tMetohia Basin\tdukadin\r\n",
      "Q7574735\tkosaburō shinichi\tKatuhiro Tukioka\thiko seijuuroo\tSu-shin\tsu shin\tSanjou Tsubame\tsekihara taé\tSadojima Hôji\tchô sawagejô\tEi'ichiro Mishima\tKuziranami Hyôgo\tkamatari honjō\tSsû Hsing\thei hsing wu\tjin'e udo\tShigekura Jubei\trurouni kenshin characters\tyatume mumyôi\tju-pon-gatana\tShogo Amakusa\tkurogasa\tChief Uramura\tList of characters in Rurouni Kenshin\tMishima Eiichirō\tmiyauchi maekawa\tmisima eizi\tarai family\thika seijuro\tRaijūta Isurugi\tbanzin inui\tkamiya koshijirō\tkihei and gohei hiruma\tkamisimoemon higasidani\tTsukayama Yuutarou\tAmakusa Shougo\tChizuru Raikôji\tyutarô tsukayama\ttiduru raikôzi\tjupon katana\tsu-shin\tÔta Higasidani\tKihei and Gohei Hiruma\thigasidani ota\tShikijo\tKihei and Gohei Himura\tTsubame Sanjou\traikôzi tiduru\tkamatari honjô\tHyôgo Kujiranami\tTyo Sawagezyo\tMuneiwa Raikoji\tmumyoi yatsume\tSeijurou Hiko\tShakkuu Arai\tTsukayama Yūtarō\tHyōgo Kujiranami\tKurogasa\tSeizyuurou Hiko\tyatsume mumyôi\tIwambou\tSekihara Sae\tHiko Seizyûrô\tKakunoshin Ni'itsu\tJin'e Udo\tUdo Jin-e\ttukioka katuhiro\traikoji chizuru\tKiyosato Akira\tAkamatsu Arundo\tRaikouji Muneiwa\tHiruma Gohei & Kihei\tshikijô\tkihei himura\tSanzyo Tubame\tkakunoshin ni'itsu\tarai shakkuu\tamakusa shougo\thoji sadojima\tinui banjin\tMiyauchi Maekawa\tTsukayama Yutarō\tHiko Seijuroh\tkamatari honjyo\tHiko Seijuroo\tHiko Seijuro\tseijyuro hiko\tryusei takani\tShinichi Kosaburou\tTakani Ryūsei\tRyūsei Takani\thiruma kihei & gohei\tyaminobu\tHei Hsing Wu\tiwambō\tUdō Jin'e\tNiitu Kakunosin\tryūsei takani\thigasidani ôta\tgohee hiruma\tRurouni Kenshin minor characters\tRaikoji Chizuru\tUdou Jin’eh\theixing wu\tKakunosin Niitu\tkujiranami hyôgo\tshikijō\tKamatari Honjou\tbanjin inui\tAkamatu Arundo\tudô zin'e\tKujiranami Hyōgo\tGohei Hiruma\tshakkuu arai\tkamatari honjou\tshakku arai\tni’itsu kakunoshin\tanzi yûkyûzan\tKosaburou Shin'ichi\takamatu arundo\toguni gensai\takira kiyosato\tshinichi kosaburō\tJin-e Udô\tTakeda Kanryū\tTiduru Raikozi\tSawagezyô Tyô\twu heixing\tudou jine\tEiichiro Mishima\thiko seijuuro\thonjou kamatari\tSadojima Hoji\traikōji chizuru\tSsu Hsing\tOta Higashidani\trurouni kenshin minor characters\tUdoh Jinei\tKamatari Honjyo\tei'ichirou mishima\thiruma kihei\tsu shen\tArai Shakku\tisurugi raijuuta\tSekihara Taé\tYukyuzan Anzi\tkamiya koshijirou\tMishima Eiichiro\thyogo kuziranami\tkamiya megumi\tWu Hei Hsing\tShiki-jo\tRaikozi Tiduru\tei’ichiro mishima\traikōji muneiwa\tshin'ichi kosaburo\tyuukyuuzan anji\thigashidani ōta\tkosaburo shinichi\thiko seizyuurou\ttakani ryusei\tJu-Pon Gatana\tKariwa Hen'ya\tyumi komagata\tjin'e udou\tHiruma Kihee & Gohee\ttani juusanrou\ttizuru raikôzi\tHeishin Wu\ttakeda kanryuu\tei'ichiro mishima\tsanzyô tubame\tyûkyûzan anji\tkatuhiro tukioka\tKamatari Honzyô\tryuusei takani\tudou jin'eh\twu hei shin\tkujiranami hyōgo\thonzyo kamatari\tHyoko Otowa\tZin'e Udô\tseizyûrô hiko\tiwanbo\thimura kenzi\tkamatari honzyô\tmishima eiichirō\tinui banzin\tkoshijirou kamiya\tMishima Ei’ichiro\tjineh udou\tKamiya Koshijiro\tHiko Seizyuro\traikouji chitsuru\tsadozima hozi\tSeijuroh Hiko\tTakeda Kanryuu\tKihei & Gohei Hiruma\tSanzyô Tubame\tjineh udo\tgohei hiruma\tJuusanrou Tani\tTubame Sanzyô\tchou sawagejo\tbeshimi\tWu Hei Shin\tOtowa Hyōko\ttakeda kanryû\thigashidani outa\tRurouni Kenshin characters\tkujiranami hyogo\tChô Sawagejô\tEi'ichirō Mishima\tÔta Higashidani\tEizi Misima\tHigasidani Uki\tNi'itsu Kakunoshin\tList of minor Rurouni Kenshin characters\tudoh jinei\tShinichi Kosaburo\tHiruma Kihee and Gohee\tshigekura jūbei\tSadojima Hōji\thiruma gohei\thyōko otowa\tyatsume mumyoui\tinui banshin\tanji yuukyuuzan\tGohei and Kihei Hiruma\tamakusa shogo\tTiduru Raikôzi\tshakkū arai\tUdou Jin'eh\tkiheh hiruma\tUdō Jine\tRaikôzi Tiduru\tmishima ei’ichirou\tJin'eh Udou\tJinne Udou\tTsukayama Yutarou\tHonjou Kamatari\tudou jinne\tKoshijiro Kamiya\tUdô Zin'e\tAnji Yûkyûzan\tkihee hiruma\tarai shakkû\tEi’ichiro Mishima\tseikuu arai\ttsunan tsukioka\tSekihara Tae\tUdou Jinne\tTukioka Tunan\tgohei and kihei hiruma\tUsui Uonuma\tsadojima hoji\thonjoh kamatari\ttukayama yutarô\tHiruma Kihei & Gohei\ttsubame sanjô\tkanryū takeda\tyuzaemon tsukayama\theishin wu\tYuzaemon Tsukayama\tJuppon Gatana\thiruma kiheh and goheh\tKakunoshin Niitsu\ttakeda kanryū\tGohei & Kihei Hiruma\tjūsanrō tani\touta higashidani\teiichirou mishima\tshikijo\thiruma kiheh\totowa hyouko\tsadojima houji\tInui Banshin\tJin-E Udo\tKanryu Takeda\thiko seizyuro\ttsubamé sanjo\tHigasidani Kamisimoemon\tRyuusei Takani\tshigekura jubei\tarai azusa\thiruma kihei and gohei\traikôzi tizuru\tanji yūkyūzan\tFudōsawa\tJineh Udoh\tkashiwazaki nenji\tmuneiwa raikoji\tniitsu kakunoshin\tSikizyô\thiruma kihee & gohee\tjuppongatana\tBanzin Inui\tTsukayama Yutarô\ttakani ryūsei\tshinichi kosaburo\tjusanro tani\tsawagejyo chou\tHigasidani Ôta\ttsukayama yutarô\thigashidani ôta\theishin uu\thiko seijurou\tTaé Sekihara\ttyo sawagezyo\tJūsanrō Tani\tJin'e Udō\tList of Rurouni Kenshin villains\tJin-E Udou\ttomoe yukishiro\tSadojima Houji\tHozi Sadozima\tArai Family\tseijuroo hiko\thigashidani kamishimoemon\tkihee & gohee hiruma\tKosaburo Shinichi\tJine Udou\tkariwa hen'ya\tShakkū Arai\tUdō Jin-E\thiko seijuro\tIwanbo\then'ya kariwa\tArai Seikuu\tJine Udō\tRaijûta Isurugi\tGohee Hiruma\tMuneiwa Raikouji\tSawagejō Chō\tKamatari Honzyo\tTsukayama Yutaro\tRaikouji Chitsuru\tmegumi takani\tmishima ei'ichirou\tkakunosin niitu\tuki higashidani\tOuta Higashidani\tUdo Zin'e\tRaijuuta Isurugi\thiko seijuro xiii\ttsubame sanjou\tSix Comrades\tmishima eiichirô\tmumyôi yatsume\tHenya Kariwa\tEiichirô Mishima\tSae Sekihara\tjinei udoh\tKanryuu Takeda\tMishima Ei’ichirō\thouji sadojima\tMumyôi Yatume\tōta higashidani\tHôji Sadojima\tRaizyuta Isurugi\thonjô kamatari\tKanryû Takeda\tTomoe Yukisiro\tyukyuzan anzi\tmishima eiichiro\tshiki-jou\tYutarô Tsukayama\tJin-e Udou\tseijuurou hiko\tChou Sawagejo\tUdo Jinne\tNi’itsu Kakunoshin\thyoko otowa\tkihei hiruma\ttakani ryuusei\tMisima Eizi\tHonzyô Kamatari\tsadojima hôji\tmishima eiichirou\tCho Sawagejou\tEi’ichirō Mishima\tnenji kashiwazaki\tseijuuro hiko\tsanjo tsubame\tRaikôzi Tizuru\tTani Jusanro\tShiki-jou\tKenzi Himura\tShigekura Juubeh\tarai seikuu\tHimura Kihei\tgensai oguni\ttsukayama yutaro\tGensai Oguni\tKamatari Honjô\tTsubame Sanjō\tKanryū Takeda\teiichirō mishima\tmuneiwa raikouji\tHyogo Kuziranami\tiwanbō\tsekihara sae\tKamiya Koshijirou\thei shin wu\tEiji Mishima\tisurugi raijūta\tssu hsing\tBeshimi\tyûkyûzan anzi\tsix comrades\tHoji Sadojima\tIwambo\tarai seiku\tHiko Seijuuroo\tcho sawagejyo\tMishima Eiichirô\tshin'ichi kosaburou\tisurugi raijuta\tlist of minor rurouni kenshin characters\tTukioka Katuhiro\tsū-shin\tjuusanrou tani\tUdou Jin-e\tSanjo Tsubame\tYukisiro Tomoe\tHimura Kihei and Gohei\tjinne udo\tshinichi kosaburou\tyuutarou tsukayama\tNiitsu Kakunoshin\tMishima Eiichirou\tGein (Rurouni Kenshin)\tYutarô Tukayama\tKamatari Honjō\tArai Azusa\ttsubame sanjō\thonzyô kamatari\tKiheh and Goheh Hiruma\thiko seijyuurou\tTani Jūsanrō\tarai iori\tHeishin Woo\tSamurai X minor characters\tYutarou Tsukayama\tsawagejyou chou\traijuta isurugi\tIsurugi Raizyuta\tuonuma usui\tsawagejou chou\tMumyoui Yatsume\tshougo amakusa\tHen'ya Kariwa\thigasidani uki\tSu Shen\tRaikōji Chizuru\tSeijyuro Hiko\tMumyôi Yatsume\tArai Shakkuu\tJubei Shigekura\tmegumi kamiya\tamakusa shōgo\tYatume Mumyôi\toniwabanshū (rurouni kenshin)\tkanryû takeda\tmumyoui yatsume\tgohei himura\tShin'ichi Kosaburou\tArai Shakkū\tcho sawagejo\tHeishin Uu\tAmakusa Shogo\tHiko Seijuuro\tkuziranami hyogo\tyukyuzan anji\tsawagejô chô\tSeijyurou Hiko\tHimura Kenzi\tshogo amakusa\tNenzi Kasiwazaki\tsikizyô\ttsukayama yuzaemon\tOniwabanshū (Rurouni Kenshin)\tMumyōi Yatsume\tKatsuhiro Tsukioka\ttukioka tunan\tkihei & gohei hiruma\tmishima ei'ichirō\tjuppon gatana\thenya kariwa\tzin'e udô\tudou jin-e\thyôgo kuziranami\tSi Hsing\tgoheh hiruma\t雪代巴\ttubame sanzyô\tsanjō tsubame\tnenzi kasiwazaki\tJin-E Udō\tsawagezyo tyo\tYûkyûzan Anji\tTae Sekihara\tShigekura Jūbei\thiko seijuurou\tjinne udou\tHiko Seijuro XIII\tChō Sawagejō\tBesimi\tudo jin-e\tjin’eh udou\tKiheh & Goheh Hiruma\tRyusei Takani\tSawagezyo Tyo\tHōji Sadojima\tShiki-jō\theishin woo\thimura kenji\tseijuuroo hiko\traizyuta isurugi\tYûkyûzan Anzi\tAnji Yukyuzan\tJinne Udo\tBanjin Inui\teiichirô mishima\tKosaburō Shin'ichi\traikoji muneiwa\tHigashidani Kamishimoemon\totowa hyōko\tInui Banjin\traikouji chizuru\tArai Seikū\tlist of villains in rurouni kenshin\tKashiwazaki Nenji\tten swords\tIsurugi Raijuuta\tJupon Katana\tHika Seijuro\thigashidani uki\tKamiya Koshijirō\tniitu kakunosin\tudō jin-e\tota higashidani\tseijurou hiko\tKihei Hiruma\tHyōko Otowa\tTomoe Yukishiro\tTsubame Sanjô\teiji mishima\tmumyôi yatume\tôta higashidani\tChou Sawagejou\thiruma kihee and gohee\thonjō kamatari\tJin’eh Udou\tInui Banzin\tOguni Gensai\tIsurugi Raijuta\tkosaburō shin'ichi\tjubei shigekura\tSeikū Arai\tudo zin'e\tkatsuhiro tsukioka\ttsukioka katsuhiro\tTani Juusanrou\tHiruma Gohee\tchou sawagejou\tJuppongatana\tudo jinne\tIwambō\tkujiranami hyougo\tKasiwazaki Nenzi\tUki Higasidani\tJinei Udoh\tUdo Jine\tWu Heixing\tShikijô\tSawagejo Chou\tUdou Jine\tKihee and Gohee Hiruma\tSawagejyo Chou\tKomagata Yumi\tarai seikû\tSeikuu Arai\tYuukyuuzan Anji\ttsukioka tsunan\tTakeda Kanryu\ttae sekihara\ttsukayama yūtarō\thôzi sadozima\tjin-e udou\thiruma kiheh & goheh\tArundo Akamatsu\tTsukioka Tsunan\tJineh Udou\tsawagejō chō\tKuziranami Hyogo\tTunan Tukioka\traikouji muneiwa\teiichiro mishima\tKamishimoemon Higashidani\tKamisimoemon Higasidani\tcho sawagejou\tjineh udoh\tMishima Ei'ichirou\tArai Seikû\titsurugi raijuuta\ttakeda kanryu\tshiki-jō\tseiku arai\tiori arai\tAmakusa Shōgo\thiko seijyuro\tKujiranami Hyougo\tSaizuchi\tyūkyūzan anji\tHonjo Kamatari\tjine udō\tShakkû Arai\tsanjou tsubame\ttsubame sanjo\tOtowa Hyoko\thiruma gohei & kihei\tusui uonuma\tItsurugi Raijuuta\tSawagejou Cho\tRaikôji Chizuru\tju-pon gatana\traikozi tiduru\tbesimi\t緋村巴\tAkira Kiyosato\tsanjo tsubamé\tTubame Sanzyo\tYatsume Mumyoi\tJu-Pon-Gatana\tTsunan Tsukioka\tmishima ei’ichirō\tSeizyûrô Hiko\tJineh Udo\tsawagejou cho\tNagaoka Mikio\tarai seikū\tjin-e udō\tseijûrô hiko\tHeixing Wu\tMegumi Takani\tjin-e udo\tseizyuro hiko\tŌta Higashidani\thiruma goheh\thiko seijûrô\tkiyosato akira\tOtowa Hyouko\tsikizyo\thyouko otowa\tsū shin\tChou Sawagejyo\tkoshijiro kamiya\tmuneiwa raikōji\tEi’ichirou Mishima\tChizuru Raikōji\tHiruma Kiheh and Goheh\tUdô Jin-e\tisurugi raizyuta\tSeijuuro Hiko\tHyougo Kujiranami\tTsubame Sanjo\tHonjō Kamatari\tzin'e udo\tAnji Yuukyuuzan\tMishima Ei’ichirou\tchizuru raikōji\traikozi tizuru\tList of Rurouni Kenshin Characters\tHonjoh Kamatari\tSeijuroo Hiko\tmikio nagaoka\tiwambou\tseizyuurou hiko\tIsurugi Raijūta\tkamatari honzyo\tSeijyuurou Hiko\tisurugi raijûta\tSikizyo\tyutarou tsukayama\tHiko Seijurou\tJin'e Udou\tarai shakku\thyôgo kujiranami\tsadojima hōji\tTsukayama Yuzaemon\tKihee Hiruma\tIwanbō\tSanjô Tsubame\tHiruma Kiheh\traijûta isurugi\tsawagejo chou\tlist of characters in rurouni kenshin\tuki higasidani\tHimura Gohei\tkamishimoemon higashidani\traijuuta isurugi\tShin'ichi Kosaburō\ttomoe yukisiro\tAnzi Yûkyûzan\tchizuru raikouji\ttsukayama yuutarou\tUdou Jineh\tMikio Nagaoka\tHimura Kenji\tRaikouji Chizuru\tkihei and gohei himura\tHigasidani Ota\tssû hsing\tYutaro Tsukayama\tjine udo\tudō jin'e\tkomagata yumi\tJu Pon Gatana\tShin'ichi Kosaburo\traikôji chizuru\tjine udou\tsekihara tae\twoo heishin\tmaekawa miyauchi\tHonzyo Kamatari\tHigashidani Uki\tHiko Seijyuurou\tkakunoshin ni’itsu\tTakani Ryuusei\tYatsume Mumyōi\tZin'e Udo\tCho Sawagejo\tHigashidani Ota\tudou jin’eh\ttani jusanro\tyatume mumyoi\tChizuru Raikouji\tjin-e udô\tanji yukyuzan\totowa hyoko\tsawagejyo cho\tArai Shakkû\tSeikû Arai\thyōgo kujiranami\tList of Rurouni Kenshin characters\tjin'e udō\tshigekura juubeh\tHonjô Kamatari\tchou sawagejyo\tKoshijirō Kamiya\tGohei Himura\tlist of rurouni kenshin villains\tSawagejou Chou\tKoshijirou Kamiya\tsawagejo cho\tChou Sawagejyou\tSeijûrô Hiko\tKihee & Gohee Hiruma\tAnzi Yukyuzan\tHyôko Otowa\tsi hsing\tchō sawagejō\tkenzi himura\tseijyuurou hiko\tjin'eh udou\tôta higasidani\ttsukayama yutarou\tHiko Seijuurou\tMegumi Kamiya\tMuneiwa Raikōji\tSawagejyou Chou\tKujiranami Hyôgo\tShougo Amakusa\tSū-shin\tei’ichirou mishima\tYuutarou Tsukayama\tOta Higasidani\tudô jin-e\tYatume Mumyoi\tKamiya Megumi\tTakani Ryusei\tTukayama Yutarô\tKosaburo Shin'ichi\tyatsume mumyōi\thimura kihei\tBanshin Inui\tsamurai x minor characters\tgohei & kihei hiruma\tYukyuzan Anji\tKamatari Honjoh\tSū Shin\tsaizuchi\tJine Udo\tkoshijirō kamiya\tiwanbou\tseijyurou hiko\tUdou Jin-E\tSadozima Hôzi\tmishima ei'ichiro\tei’ichirō mishima\tkuziranami hyôgo\thimura kihei and gohei\tSawagejô Chô\tHyôgo Kuziranami\tRaikoji Muneiwa\tsanzyo tubame\tudo jine\tHyouko Otowa\tKariwa Henya\tIsurugi Raijûta\tkanryuu takeda\tarundo akamatsu\tyukisiro tomoe\tHiruma Gohei and Kihei\tHiko Seijūrō XIII\tIwanbou\tsawagezyô tyô\tHouji Sadojima\tUu Heishin\tShikijō\thozi sadozima\thimura gohei\thyougo kujiranami\tMumyoi Yatume\ttubame sanzyo\tyatsume mumyoi\twu heishin\tUdo Jin-E\thonjo kamatari\tarundo akamatu\tkanryu takeda\tSeijuurou Hiko\tudō jine\tHiruma Kihei and Gohei\tHiko Seijyurou\tkamatari honjo\tkamiya koshijiro\tArai Iori\tWu Heishin\tMishima Ei'ichiro\tWoo Heishin\tSanjo Tsubamé\thiko seijuroh\tkamatari honjoh\tJusanro Tani\tTsubamé Sanjo\tyutarō tsukayama\tni'itsu kakunoshin\tmumyoi yatume\tshōgo amakusa\tseikū arai\traijūta isurugi\tArundo Akamatu\tSawagejo Cho\tgein (rurouni kenshin)\tEiichirō Mishima\tYutarō Tsukayama\tList of villains in Rurouni Kenshin\ttunan tukioka\tUki Higashidani\tJūbei Shigekura\ttsukayama yutarō\ttaé sekihara\tNenji Kashiwazaki\thiko seizyûrô\tkiheh & goheh hiruma\tYūkyūzan Anji\tRaijuta Isurugi\tsae sekihara\tKujiranami Hyogo\tArai Seiku\tUonuma Usui\tuu heishin\tHei Shin Wu\tMaekawa Miyauchi\teizi misima\tMumyoi Yatsume\tHiko Seijyuro\tchou sawagejyou\tHigashidani Ōta\tKamatari Honjo\thyogo kujiranami\tkosaburou shin'ichi\thigashidani ota\tAzusa Arai\tHiruma Gohei\tHôzi Sadozima\tRaikozi Tizuru\tYatsume Mumyôi\tHiko Seizyuurou\ttyô sawagezyô\totowa hyôko\tbanshin inui\tHiruma Kiheh & Goheh\tJinei Udo\tshin'ichi kosaburō\tjinei udo\tHiruma Goheh\tsadozima hôzi\tShinichi Kosaburō\tMishima Eiji\tOtowa Hyôko\tHigashidani Outa\tGoheh Hiruma\tShakku Arai\tchief uramura\tkariwa henya\tei'ichirō mishima\ttiduru raikozi\tjūbei shigekura\tTyô Sawagezyô\tlist of rurouni kenshin characters\tCho Sawagejyo\tUdo Jinei\tudou jineh\ttizuru raikozi\takamatsu arundo\tEi'ichirou Mishima\tYatsume Mumyoui\thiko seijuroo\tazusa arai\tSu Shin\tnagaoka mikio\tKosaburō Shinichi\tTsukioka Katsuhiro\tYaminobu\tIori Arai\tchizuru raikoji\tHonjyo Kamatari\tSeiku Arai\thonjyo kamatari\tarai shakkū\tmishima ei’ichiro\tkasiwazaki nenzi\tshakkû arai\thigasidani kamisimoemon\tHiruma Kihei\tkosaburo shin'ichi\tseikû arai\tSawagejyo Cho\tTizuru Raikozi\twu hei hsing\tChizuru Raikoji\tyutarô tukayama\tSadozima Hozi\thyôko otowa\tju pon gatana\tkakunoshin niitsu\tTizuru Raikôzi\tudo jinei\tHiko Seijûrô\tTakeda Kanryû\thiko seijūrō xiii\tEiichirou Mishima\thōji sadojima\ttani jūsanrō\tHyogo Kujiranami\tSeijuuroo Hiko\thiko seijyurou\tHigashidani Ôta\thiruma gohee\tkihee and gohee hiruma\tmishima eiji\tudo jin'e\tRaikōji Muneiwa\tiwambo\tanji yûkyûzan\tYumi Komagata\tTen Swords\thôji sadojima\tUdō Jin-e\tSanjō Tsubame\tfudōsawa\tchizuru raikôji\tmumyōi yatsume\tkiheh and goheh hiruma\tShōgo Amakusa\tMishima Ei'ichirō\tshiki-jo\tKihei Himura\tyutaro tsukayama\tsanjô tsubame\thiruma gohei and kihei\tanzi yukyuzan\tAnji Yūkyūzan\tseijuroh hiko\tKiheh Hiruma\tJin-e Udo\tUdo Jin'e\tSeizyuro Hiko\tota higasidani\tKakunoshin Ni’itsu\r\n",
      "Q1113636\tGómez Suárez de Figueroa, 3rd Duke of Feria\tgomez suarez de figueroa y córdoba, duke of feria\tGómez Suárez de Figueroa, 1st Duke of Feria\tgómez suárez de figueroa, 1st duke of feria\tgómez suárez de figueroa y córdoba, duke of feria\tGomez Suarez de Figueroa, 3rd Duke of Feria\tGómez Suárez de Figueroa y Córdoba, Duke of Feria\tGomez Suarez de Figueroa y Córdoba, Duke of Feria\tgómez suárez de figueroa, 3rd duke of feria\tgomez suarez de figueroa, 3rd duke of feria\r\n",
      "Q3898485\tPJ20 Tour\tPearl Jam 20 Tour\tpearl jam 20 tour\tpj20 tour\tpearl jam twenty tour\tPearl Jam Twenty tour\tPearl Jam 2011 Tour\tpearl jam 2011 tour\tPearl Jam 2011 Canadian Tour\tPearl Jam Twenty Tour\tpearl jam 2011 canadian tour\r\n",
      "Q4191870\tisrael zilber\tIsrael Zilber\r\n",
      "Q137443\tStany Male\tstany małe\tStany Małe\tstany male\r\n",
      "Q20937\tGyeonggido\tkyŏnggi province, south korea\tgyonggi province\tkyonggi province\tKyungki-do\t경기도\tkyung-gi\tkeiki province\tgyeongi-do\tgyeonggi province\tgyeonjgido\tchangtuan\tChangtuan\tKyonggi\tGyeonggi\tKyŏnggi Province, South Korea\tGijeon\tKyonggido\tkyonggido\tKyonggi Province\tKyŏnggi Province\tGyeongi-do\tkyonggi\tKyunggi\tKyung-gi\tkyonggi province, south korea\tGyonggi Province\tGyeongGi-Do\tgyeonggido\tgyeonggi-do\tgyeonggi\tprovince of gyeonggi\tKyunggi-do\tGinae\tkyongkido\t京畿道\tginae\tGyeonggi province\tgijeon\tGyeonggi Province\tKyonggi-do\tKR-41\tKeiki Province\tkyunggi\tKyŏnggi\tKyongkido\tKyonggi Province, South Korea\tgyonggi\tkyŏnggi\tGyeonggi-do\tkyungki-do\tkr-41\tkyunggi-do\tGyonggi\tProvince of Gyeonggi\tGyeonjgido\tkyŏnggi province\tkyonggi-do\r\n",
      "Q11316743\tdaikin orchid ladies\tDaikin Orchid Classic\tdaikin orchid ladies golf tournament\tdaikin orchid ladies tournamen\tDaikin Orchid Ladies Tournamen\tDaikin Orchid Ladies Golf Tournament\tdaikin orchid classic\tDaikin Orchid Ladies\r\n",
      "Q7243478\tFirst United Methodist Church of Ponce\tfirst united methodist church of ponce\tPrimera Iglesia Metodista Unida de Ponce\tmissionary society of the methodist episcopal church\tMissionary Society of the Methodist Episcopal Church\tprimera iglesia metodista unida de ponce\r\n",
      "Q314646\tdawson alexander\tDawson Alexander, Esq.\tDavid Daniel Otunga, Sr.\tdawson alexander, esq.\totunga\tDavid A-List Otunga\tdavid otunga\tDavid Otunga\tDawson Alexander\tdavid daniel otunga, sr.\tOtunga\tDavid \"A-List\" Otunga\tdavid a-list otunga\tdavid \"a-list\" otunga\r\n",
      "Q15139463\tDays of Wrath (2013 film)\tdays of wrath (2013 film)\r\n",
      "Q7430529\tScars of War, Wounds of Peace\tscars of war, wounds of peace\tscars of war, wounds of peace: the israeli-arab tragedy\tScars of War, Wounds of Peace: The Israeli-Arab Tragedy\tScars of War, Wounds of Peace: The Israeli–Arab Tragedy\tscars of war, wounds of peace: the israeli–arab tragedy\r\n",
      "Q2109972\tmarmari\tmarmarion\tMarmario, Greece\tmarmario, greece\tMarmario\tMarmarion, Greece\tMarmarion\tMarmari\tMarmari, Greece\tmarmarion, greece\tmarmario\tmarmari, greece\r\n",
      "Q4761155\tAndy Payne\tAndy Hartley Payne\tandy payne\tᎡᏂᏗ ᎡᎯᏍᏗ\tandy hartley payne\r\n",
      "Q1269170\tdynegy inc.\tdinergy\tDinergy\tdynegy, inc\tDynegy, Inc\tDynegy Incorporated\tNGC Corp\tdynegy inc\tNGC Corp.\tDynegy Inc\tngc corporation\tdynegy, incorporated\tDynegy Inc.\tdynegy, inc.\tDynegy\tdynegy incorporated\tDynegy Inc. (New) Class A\tdynegy inc. (new) class a\tngc corp.\tdynegy\tNGC Corporation\tngc corp\tDynegy, Incorporated\tDynegy, Inc.\r\n",
      "Q7232462\tportsmouth gaseous diffusion plant\tPortsmouth Gaseous Diffusion Plant\r\n",
      "Q2387770\tAndrew of Volhynia\tAndrew of Galicia\tAndriy II\tAndrey Yurevich\tandriy ii\tandriy ii yuriyevych\tandrew of galicia\tandrew of volhynia\tAndrew of halych\tAndrew of Halych\tandriy yuriyovich\tandrey yurevich\tAndrew of Galicia (Eastern Europe)\tAndriy Yuriyovich\tAndrew of galicia\tAndriy II Yuriyevych\tandrew of galicia (eastern europe)\tandrew of halych\r\n",
      "Q5818907\tsiah kamar-e bala\tSiah Kamar-e Olya\tSiah Kamar-e Bala\tsiah kamar-e olya\r\n",
      "Q154701\t4808 ballaero\t4808 Ballaero\r\n",
      "Q7107088\tbah dhulbahante\tCisman Mahmoud\tcisman mahmoud\tosman mahmoud\tBah Dhulbahante\tOsman Mahmoud\r\n",
      "Q6623135\tsh781\tState Route 781\tSH-781\tSH781\tFederal Route 781\tNational Route 781\tfederal road 781\tsr781\tSR-781\tsr-781\tlist of highways numbered 781\tSH 781\tfederal highway 781\troute 781\tfederal route 781\tNational Highway 781\tnational highway 781\tState Road 781\tSR781\tnational route 781\tsr 781\tsh-781\tstate highway 781\tFederal Highway 781\tNational Road 781\tstate road 781\tFederal Road 781\tSR 781\tList of highways numbered 781\thighway 781\tsh 781\tState Highway 781\tstate route 781\tRoute 781\tHighway 781\r\n",
      "Q1184780\tN726DA\tdl191\tdelta flight 191\trudolph price\tn726da\tdal 191\tMary Estridge\tDL 191\tmary ann estridge\tDelta Air Lines Flight 191\tnick nassick\tDebbie Katz\tChristopher Meier\tJay Slusher\tdl 191\tMary Ann Estridge\tdebbie katz\tvickie chavis\tdelta airlines flight 191\tted conners\tNick Nassick\tDelta Flight 191\tDelta Airlines Flight 191\tEdward Conners\tjay slusher\tchris meier\tDAL 191\tDL191\tChris Meier\tchristopher meier\tTed Conners\tdelta air lines flight 191\tVickie Chavis\tedward conners\tdelta 191\tRudolph Price\tmary estridge\tDelta 191\r\n",
      "Q17076813\thealth insurance public option\tpublic health insurance option\thealth care public option\tpublic health plan\tPublic health insurance option\tpublic option\tpublic insurance plan option\tHealth care public option\tPublic health plan\tPublic insurance option\tPublic insurance plan option\tpublic insurance option\tHealth insurance public option\tConsumer option\tPublic option\tPublic health insurance plan\tpublic health insurance plan\tconsumer option\r\n",
      "Q4950648\tbryant and may factory, bow\tbow quarter\tBow Quarter\tBryant and May Factory, Bow\r\n",
      "Q4115894\tcoalition of gulf war\tCoalition of Gulf War\tCoalition of the Gulf War\tallied coalition against iraq\tCoalition of the Persian Gulf War\tcoalition of the gulf war\tcoalition of the persian gulf war\tCoalition of the gulf war\tAllied coalition against Iraq\r\n",
      "Q5384577\tList of equipment of the United States Navy\tEquipment of the United States Navy\tequipment of the us navy\tEquipment of the US Navy\tequipment of the united states navy\tequipment of the u.s. navy\tlist of equipment of the united states navy\tEquipment of the U.S. Navy\r\n",
      "Q6819242\tmeridagena bicerithium\tMeridagena bicerithium\tMeridagena\tmeridagena\r\n",
      "Q6456627\tL S Matthews\tlaura dron\tL. S. Matthews\tLaura Dron\tl s matthews\tl. s. matthews\r\n",
      "Q838757\tlakewood california\tLakewood, CA\tLakewood, California\tLakewood (CA)\tlakewood (california)\tlakewood, ca\tUN/LOCODE:USLQQ\tLakewood, ca\tLakewood california\tlakewood (ca)\tlakewood, california\tLakewood (California)\tun/locode:uslqq\r\n",
      "Q2740039\tpotoce, divaca\tpotoče, divača\tPotoče, Divača\tPotoce, Divaca\r\n",
      "Q6929907\tMrs. Wiggs of the Cabbage Patch (1919 film)\tmrs. wiggs of the cabbage patch (1919 film)\r\n",
      "Q1086888\tPennock, Christopher\tChristopher Pennock\tpennock, christopher\tchristopher pennock\r\n",
      "Q188673\tTargoviste\tTergowisch\ttirgoviste\tHistory of Târgoviște\tTîrgoviște\tcoat of arms of târgovişte\ttârgoviște\ttârgovişte\tcoat of arms of târgoviște\thistory of târgoviște\tCoat of arms of Târgoviște\ttîrgoviște\tTîrgovişte\ttergowisch\tTârgovişte\tCoat of arms of Targoviste\ttargoviste\ttârgoviște, romania\ttirgoviayte\tTirgoviste\tTirgoviAYte\tCoat of arms of Târgovişte\tTârgoviște\tcoat of arms of targovishte\tTirgoviÅŸte\ttîrgovişte\tcoat of arms of targoviste\ttirgoviåÿte\tCoat of arms of Targovishte\tTârgoviște, Romania\r\n",
      "Q16859336\tHoffman, Anthony\tAnthony Hoffman\thoffman, anthony\tanthony hoffman\r\n",
      "Q12800734\tsandi (name)\tSandi (name)\tsandi (given name)\tSandi (given name)\r\n",
      "Q1157112\tFS Lublin\tfs lublin\tlublin van\tFSC Lublin\tlublin ii\tdaewoo lublin\tlublin truck\tLublin truck\tfsc lublin\tLublin II\tLublin van\tDaewoo Lublin\r\n",
      "Q6554199\tlinjegods\tLinjegods\r\n",
      "Q2438969\tmauricio montero\tMauricio Montero\r\n",
      "Q2057747\tSven Breugelmans\tsven breugelmans\r\n",
      "Q16824537\tGüzin Akdemir\tguzin akdemir\tGuzin Akdemir\tgüzin akdemir\r\n",
      "Q13572471\tvanessa samani\tVanessa samani\tpyrameis samani\tPyrameis samani\r\n",
      "Q4777188\tbeaumont, antony\tAntony Beaumont\tantony beaumont\tBeaumont, Antony\r\n",
      "Q3026456\tDibamus booliati\tdibamus booliati\tboo liat’s blind lizard\tBoo Liat’s blind lizard\r\n",
      "Q23542600\tanalía soledad almeida\tana lia almeida\tanalia almeida\tAnalía Almeida\tAna Lia Almeida\tAnalía Soledad Almeida\tanalía almeida\tAnalia Almeida\r\n",
      "Q27811386\temmi (australian singer)\tEmmi (Australian singer)\r\n",
      "Q6571683\tNina Reeves\tNina Reeves (General Hospital)\thamilton finn\tabby haver\tfelix dubois (general hospital)\tewen keenan\tList of General Hospital characters (2010s)\tBrad Cooper (General Hospital)\tNina Clay\tHayden Barnes (General Hospital Character)\tAbby Haver\tHayden Barnes\tgeneral hospital characters (2010s)\tNina Cassadine\tnina cassadine\tcurtis ashford\tPeter August\tpeter august\tTrey Mitchell\tbrad cooper (general hospital)\tJordan Ashford\tTheo Hoffman\tLisa Obrecht\thayden barnes (general hospital character)\tHayden Barnes.\thayden barnes\tClaudette Beaulieu\tnina reeves (general hospital)\tandrew cain\tnina reeves\tpatricia spencer\tHayden Barnes Cassadine\tSiobhan McKenna-Spencer\thayden barnes (general hospital)\tSilas Clay\tMaya Ward\tEwen Keenan\tdrew cain\tThe Balkan (General Hospital)\tJoe Scully, Jr.\tHamilton Finn\tPat Spencer\tnina clay\tclaudette beaulieu\tPatricia Spencer\tDrew Cain\tsiobhan mckenna-spencer\tthe balkan (general hospital)\tjoe scully, jr.\tNina Reeves (General Hospital) Nina Reeves\tGriffin Munro\tCurtis Ashford\tpat spencer\tFelix DuBois\tAndre Maddox (General Hospital)\tlisa obrecht\thayden barns\tfelix dubois\tsiobhan mckenna (general hospital)\tStephen Clay\tlist of general hospital characters (2010s)\tellie trout\tEllie Trout\tSiobhan Spencer\tmaya ward\tHayden Barns\tcarlos rivera (general hospital)\tandre maddox (general hospital)\thayden barnes cassadine\tsiobhan spencer\tnina reeves (general hospital) nina reeves\tsilas clay\tSiobhan McKenna (General Hospital)\thayden barnes.\tAndrew Cain\tjordan ashford\tgriffin munro\tCarlos Rivera (General Hospital)\tstephen clay\ttheo hoffman\tHayden Barnes (General Hospital)\tFelix DuBois (General Hospital)\ttrey mitchell\tGeneral Hospital characters (2010s)\r\n",
      "Q1991997\tsouth elmham minster\tSouth Elmham St Cross\tSt Cross, Suffolk\tsouth elmham st cross\tSt Cross, South Elmham\tSouth Elmham Minster\tst cross, south elmham\tst cross, suffolk\r\n",
      "Q26993\ttheodor storm\tTheodor W. Storm\thans theodor storm\ttheodore woldsen storm\tTheodor Storm\tTheodor Woldsen Storm\tTheodore Woldsen Storm\ttheodor w. storm\tHans Theodor Storm\ttheodor woldsen storm\r\n",
      "Q7409735\tsammy davis, jr. discography\tsammy davis jr. discography\tSammy Davis, Jr. discography\tSammy Davis Jr. discography\r\n",
      "Q6633974\tlist of churches in eastbourne\tList of places of worship in Eastbourne\tlist of places of worship in eastbourne\tList of churches in Eastbourne\r\n",
      "Q5225372\tdarryl fisher\tDarryl Fisher\r\n",
      "Q17116388\tmeanings of minor planet names: 318001-319000\tMeanings of minor planet names: 318001-319000\tmeanings of minor planet names: 318001–319000\tMeanings of minor planet names: 318001–319000\r\n",
      "Q19872000\tAll Soul's Weekend (Tucson, Arizona)\tAll Soul's Weekend (Tucson, AZ)\tall soul's weekend (tucson, arizona)\tAll Soul's Weekend\tall soul's weekend (tucson, az)\tall soul's weekend\r\n",
      "Q441715\tbifs\tiso/iec 14496-11\tmpeg-4 part 11\tmpeg-4 bifs\tMPEG-4 BIFS\tMPEG-4 Part 11\tISO/IEC 14496-11\tBIFS\tBIFs\r\n",
      "Q1277402\tLord Selborne\tEarl of Selborne\tBaron Selborne\tEarls of Selborne\tlord wolmer\tbaron selborne\tViscount Wolmer\tthe earl of selborne\tLord Wolmer\tearl selborne\tearls of selborne\tlord selborne\tEarl Selborne\tviscount wolmer\tEarl of selborne\tThe Earl of Selborne\tearl of selborne\r\n",
      "Q5296548\tDonnchadh Ruadh Mac Conmara\tdonnchadh ruadh mac conmara\r\n",
      "Q5263245\tderrymullen\tDerrymullan\tDerrymullen\tderrymullan\r\n",
      "Q29561754\t2017 AFLW draft\t2017 AFL Women's draft\t2017 aflw draft\t2017 afl women's draft\r\n",
      "Q4948859\tBeaumont Hospital, Farmington Hills\tBeaumont Hospital\tBotsford Hospital\tbotsford hospital\tbeaumont hospital\tbeaumont hospital, farmington hills\r\n",
      "Q926359\tcorgon liga 2007\tCorgon Liga 2006/07\t2006-07 Slovak Superliga\tslovak superliga 2006-07\t2006–07 slovak superliga\tcorgon liga 2006/07\t2006-07 slovak superliga\tSlovak Superliga 2006-07\t2006–07 Slovak Superliga\tCorgoň Liga 2007\tcorgoň liga 2007\tCorgon Liga 2007\tcorgoň liga 2006/07\tCorgoň Liga 2006/07\r\n",
      "Q19930089\t2015 Nurnberger Versicherungscup - Doubles\t2015 nurnberger versicherungscup - doubles\t2015 Nurnberger Versicherungscup – Doubles\t2015 nürnberger versicherungscup - doubles\t2015 Nürnberger Versicherungscup – Doubles\t2015 nurnberger versicherungscup – doubles\t2015 nürnberger versicherungscup – doubles\t2015 Nürnberger Versicherungscup - Doubles\r\n",
      "Q3255165\tdukes of ventadour\tDuke of Ventadour\tduke of ventadour\tDuc de Ventadour\tDukes of Ventadour\tduc de ventadour\r\n",
      "Q290307\tÜrümqi Rail Transit\tWulumuqi Metro\turumqi metro\tUrumqi Metro\twulumuqi metro\türümqi light rail transit\tÜrümqi Metro\türümqi metro\türümqi rail transit\tUrumqi Light Rail Transit\turumqi light rail transit\tÜrümqi Light Rail Transit\r\n"
     ]
    }
   ],
   "source": [
    "!head -n 100 wikidata5m_entity.txt"
   ]
  },
  {
   "cell_type": "code",
   "execution_count": 3,
   "metadata": {},
   "outputs": [
    {
     "data": {
      "text/plain": [
       "'Q5196650\\tCut Your Hair\\tcut your hair'"
      ]
     },
     "execution_count": 3,
     "metadata": {},
     "output_type": "execute_result"
    }
   ],
   "source": [
    "with open('wikidata5m_entity.txt') as fopen:\n",
    "    data = fopen.read().split('\\n')\n",
    "    \n",
    "data[0]"
   ]
  },
  {
   "cell_type": "code",
   "execution_count": 4,
   "metadata": {},
   "outputs": [],
   "source": [
    "import re\n",
    "from unidecode import unidecode\n",
    "from collections import defaultdict\n",
    "import numpy as np\n",
    "\n",
    "def cleaning(string):\n",
    "    string = re.sub('[^A-Za-z ]+', ' ', unidecode(string).lower())\n",
    "    return re.sub(r'[ ]+', ' ', string).strip()"
   ]
  },
  {
   "cell_type": "code",
   "execution_count": 6,
   "metadata": {},
   "outputs": [],
   "source": [
    "def get_uniques(string):\n",
    "    uniques = defaultdict(list)\n",
    "    splitted = string.split('\\t')[1:]\n",
    "    for s in splitted:\n",
    "        uniques[cleaning(s)].append(unidecode(s))\n",
    "        \n",
    "    r = []  \n",
    "    for k, v in uniques.items():\n",
    "        vals = [sum([ord(c) for c in v_]) for v_ in v]\n",
    "        r.append(v[np.argmin(vals)])\n",
    "    return r"
   ]
  },
  {
   "cell_type": "code",
   "execution_count": 8,
   "metadata": {
    "scrolled": true
   },
   "outputs": [
    {
     "name": "stdout",
     "output_type": "stream",
     "text": [
      "CPU times: user 84 µs, sys: 56 µs, total: 140 µs\n",
      "Wall time: 139 µs\n"
     ]
    },
    {
     "data": {
      "text/plain": [
       "['Cut Your Hair']"
      ]
     },
     "execution_count": 8,
     "metadata": {},
     "output_type": "execute_result"
    }
   ],
   "source": [
    "%%time\n",
    "get_uniques(data[0])"
   ]
  },
  {
   "cell_type": "code",
   "execution_count": 11,
   "metadata": {},
   "outputs": [
    {
     "data": {
      "text/plain": [
       "4813492"
      ]
     },
     "execution_count": 11,
     "metadata": {},
     "output_type": "execute_result"
    }
   ],
   "source": [
    "len(data)"
   ]
  },
  {
   "cell_type": "code",
   "execution_count": 13,
   "metadata": {},
   "outputs": [],
   "source": [
    "import ujson as json\n",
    "\n",
    "filename = 'wikidata5m_entity.txt'\n",
    "partition_size = 10\n",
    "limit = len(data) // partition_size\n",
    "for i in range(partition_size):\n",
    "    b = data[i * limit: limit + (i * limit)]\n",
    "    b = [r for r in b if len(r)]\n",
    "    with open(f'{filename}-{i}', 'w') as fopen:\n",
    "        json.dump(b, fopen)"
   ]
  },
  {
   "cell_type": "code",
   "execution_count": null,
   "metadata": {},
   "outputs": [],
   "source": []
  }
 ],
 "metadata": {
  "kernelspec": {
   "display_name": "Python 3",
   "language": "python",
   "name": "python3"
  },
  "language_info": {
   "codemirror_mode": {
    "name": "ipython",
    "version": 3
   },
   "file_extension": ".py",
   "mimetype": "text/x-python",
   "name": "python",
   "nbconvert_exporter": "python",
   "pygments_lexer": "ipython3",
   "version": "3.6.9"
  }
 },
 "nbformat": 4,
 "nbformat_minor": 2
}
