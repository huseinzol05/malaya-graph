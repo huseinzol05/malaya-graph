{
 "cells": [
  {
   "cell_type": "code",
   "execution_count": 1,
   "metadata": {},
   "outputs": [],
   "source": [
    "import os\n",
    "\n",
    "os.environ['CUDA_VISIBLE_DEVICES'] = '0'"
   ]
  },
  {
   "cell_type": "code",
   "execution_count": 2,
   "metadata": {},
   "outputs": [],
   "source": [
    "import malaya\n",
    "transformer = malaya.translation.en_ms.transformer()"
   ]
  },
  {
   "cell_type": "code",
   "execution_count": 3,
   "metadata": {},
   "outputs": [
    {
     "data": {
      "text/plain": [
       "['P489\\tcurrency symbol description',\n",
       " 'P834\\ttrain depot\\trailway depot\\tdepot\\trail yard',\n",
       " 'P2629\\tBBFC rating\\tBBFC certificate',\n",
       " 'P1677\\tindex case of',\n",
       " 'P734\\tfamily name\\tlast name\\thas surname\\tsurname',\n",
       " 'P98\\teditor\\tcompiler\\tedited by\\tcompiled by',\n",
       " 'P1001\\tapplies to jurisdiction\\tof jurisdiction\\tlinked to jurisdiction\\tbelongs to jurisdiction\\tjurisdiction\\tcountry of jurisdiction\\tvalid in jurisdiction\\tapplies to territorial jurisdiction\\tapplied to jurisdiction',\n",
       " 'P3018\\tlocated in protected area\\tprotected area\\tnational park\\tstate park',\n",
       " 'P4545\\tsexually homologous with',\n",
       " 'P878\\tavionics\\tsensors\\telectronics']"
      ]
     },
     "execution_count": 3,
     "metadata": {},
     "output_type": "execute_result"
    }
   ],
   "source": [
    "with open('wikidata5m_relation.txt') as fopen:\n",
    "    data = fopen.read().split('\\n')\n",
    "data = list(filter(None, data))\n",
    "data[:10]"
   ]
  },
  {
   "cell_type": "code",
   "execution_count": 8,
   "metadata": {},
   "outputs": [
    {
     "name": "stderr",
     "output_type": "stream",
     "text": [
      "100%|██████████| 825/825 [01:14<00:00, 11.01it/s]\n"
     ]
    }
   ],
   "source": [
    "from tqdm import tqdm\n",
    "\n",
    "results = []\n",
    "for r in tqdm(data):\n",
    "    splitted = r.split('\\t')\n",
    "    ms = transformer.greedy_decoder(splitted[1:])\n",
    "    d = {'id': splitted[0], 'original': r, 'en': splitted[1:], 'ms': ms}\n",
    "    results.append(d)"
   ]
  },
  {
   "cell_type": "code",
   "execution_count": 9,
   "metadata": {},
   "outputs": [],
   "source": [
    "import json\n",
    "\n",
    "with open('wikidata5m_relation.txt.translate', 'w') as fopen:\n",
    "    json.dump(results, fopen)"
   ]
  },
  {
   "cell_type": "code",
   "execution_count": null,
   "metadata": {},
   "outputs": [],
   "source": []
  }
 ],
 "metadata": {
  "kernelspec": {
   "display_name": "Python 3",
   "language": "python",
   "name": "python3"
  },
  "language_info": {
   "codemirror_mode": {
    "name": "ipython",
    "version": 3
   },
   "file_extension": ".py",
   "mimetype": "text/x-python",
   "name": "python",
   "nbconvert_exporter": "python",
   "pygments_lexer": "ipython3",
   "version": "3.6.9"
  }
 },
 "nbformat": 4,
 "nbformat_minor": 2
}
